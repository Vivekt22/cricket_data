{
 "cells": [
  {
   "cell_type": "code",
   "execution_count": 1,
   "metadata": {},
   "outputs": [
    {
     "data": {
      "text/html": [
       "<pre style=\"white-space:pre;overflow-x:auto;line-height:normal;font-family:Menlo,'DejaVu Sans Mono',consolas,'Courier New',monospace\"><span style=\"color: #7fbfbf; text-decoration-color: #7fbfbf\">[11/11/24 23:39:02] </span><span style=\"color: #000080; text-decoration-color: #000080\">INFO    </span> Using                                                                  <a href=\"file://c:\\Users\\vivek\\anaconda3\\envs\\cricket_kedro\\Lib\\site-packages\\kedro\\framework\\project\\__init__.py\" target=\"_blank\"><span style=\"color: #7f7f7f; text-decoration-color: #7f7f7f\">__init__.py</span></a><span style=\"color: #7f7f7f; text-decoration-color: #7f7f7f\">:</span><a href=\"file://c:\\Users\\vivek\\anaconda3\\envs\\cricket_kedro\\Lib\\site-packages\\kedro\\framework\\project\\__init__.py#270\" target=\"_blank\"><span style=\"color: #7f7f7f; text-decoration-color: #7f7f7f\">270</span></a>\n",
       "<span style=\"color: #7fbfbf; text-decoration-color: #7fbfbf\">                    </span>         <span style=\"color: #008000; text-decoration-color: #008000\">'c:\\Users\\vivek\\anaconda3\\envs\\cricket_kedro\\Lib\\site-packages\\kedro\\f</span> <span style=\"color: #7f7f7f; text-decoration-color: #7f7f7f\">               </span>\n",
       "<span style=\"color: #7fbfbf; text-decoration-color: #7fbfbf\">                    </span>         <span style=\"color: #008000; text-decoration-color: #008000\">ramework\\project\\rich_logging.yml'</span> as logging configuration.           <span style=\"color: #7f7f7f; text-decoration-color: #7f7f7f\">               </span>\n",
       "</pre>\n"
      ],
      "text/plain": [
       "\u001b[2;36m[11/11/24 23:39:02]\u001b[0m\u001b[2;36m \u001b[0m\u001b[34mINFO    \u001b[0m Using                                                                  \u001b]8;id=490909;file://c:\\Users\\vivek\\anaconda3\\envs\\cricket_kedro\\Lib\\site-packages\\kedro\\framework\\project\\__init__.py\u001b\\\u001b[2m__init__.py\u001b[0m\u001b]8;;\u001b\\\u001b[2m:\u001b[0m\u001b]8;id=931867;file://c:\\Users\\vivek\\anaconda3\\envs\\cricket_kedro\\Lib\\site-packages\\kedro\\framework\\project\\__init__.py#270\u001b\\\u001b[2m270\u001b[0m\u001b]8;;\u001b\\\n",
       "\u001b[2;36m                    \u001b[0m         \u001b[32m'c:\\Users\\vivek\\anaconda3\\envs\\cricket_kedro\\Lib\\site-packages\\kedro\\f\u001b[0m \u001b[2m               \u001b[0m\n",
       "\u001b[2;36m                    \u001b[0m         \u001b[32mramework\\project\\rich_logging.yml'\u001b[0m as logging configuration.           \u001b[2m               \u001b[0m\n"
      ]
     },
     "metadata": {},
     "output_type": "display_data"
    },
    {
     "data": {
      "text/html": [
       "<pre style=\"white-space:pre;overflow-x:auto;line-height:normal;font-family:Menlo,'DejaVu Sans Mono',consolas,'Courier New',monospace\"><span style=\"color: #7fbfbf; text-decoration-color: #7fbfbf\">                    </span><span style=\"color: #000080; text-decoration-color: #000080\">INFO    </span> Registered line magic <span style=\"color: #008000; text-decoration-color: #008000\">'%reload_kedro'</span>                                   <a href=\"file://c:\\Users\\vivek\\anaconda3\\envs\\cricket_kedro\\Lib\\site-packages\\kedro\\ipython\\__init__.py\" target=\"_blank\"><span style=\"color: #7f7f7f; text-decoration-color: #7f7f7f\">__init__.py</span></a><span style=\"color: #7f7f7f; text-decoration-color: #7f7f7f\">:</span><a href=\"file://c:\\Users\\vivek\\anaconda3\\envs\\cricket_kedro\\Lib\\site-packages\\kedro\\ipython\\__init__.py#61\" target=\"_blank\"><span style=\"color: #7f7f7f; text-decoration-color: #7f7f7f\">61</span></a>\n",
       "</pre>\n"
      ],
      "text/plain": [
       "\u001b[2;36m                   \u001b[0m\u001b[2;36m \u001b[0m\u001b[34mINFO    \u001b[0m Registered line magic \u001b[32m'%reload_kedro'\u001b[0m                                   \u001b]8;id=406469;file://c:\\Users\\vivek\\anaconda3\\envs\\cricket_kedro\\Lib\\site-packages\\kedro\\ipython\\__init__.py\u001b\\\u001b[2m__init__.py\u001b[0m\u001b]8;;\u001b\\\u001b[2m:\u001b[0m\u001b]8;id=935547;file://c:\\Users\\vivek\\anaconda3\\envs\\cricket_kedro\\Lib\\site-packages\\kedro\\ipython\\__init__.py#61\u001b\\\u001b[2m61\u001b[0m\u001b]8;;\u001b\\\n"
      ]
     },
     "metadata": {},
     "output_type": "display_data"
    },
    {
     "data": {
      "text/html": [
       "<pre style=\"white-space:pre;overflow-x:auto;line-height:normal;font-family:Menlo,'DejaVu Sans Mono',consolas,'Courier New',monospace\"><span style=\"color: #7fbfbf; text-decoration-color: #7fbfbf\">                    </span><span style=\"color: #000080; text-decoration-color: #000080\">INFO    </span> Registered line magic <span style=\"color: #008000; text-decoration-color: #008000\">'%load_node'</span>                                      <a href=\"file://c:\\Users\\vivek\\anaconda3\\envs\\cricket_kedro\\Lib\\site-packages\\kedro\\ipython\\__init__.py\" target=\"_blank\"><span style=\"color: #7f7f7f; text-decoration-color: #7f7f7f\">__init__.py</span></a><span style=\"color: #7f7f7f; text-decoration-color: #7f7f7f\">:</span><a href=\"file://c:\\Users\\vivek\\anaconda3\\envs\\cricket_kedro\\Lib\\site-packages\\kedro\\ipython\\__init__.py#63\" target=\"_blank\"><span style=\"color: #7f7f7f; text-decoration-color: #7f7f7f\">63</span></a>\n",
       "</pre>\n"
      ],
      "text/plain": [
       "\u001b[2;36m                   \u001b[0m\u001b[2;36m \u001b[0m\u001b[34mINFO    \u001b[0m Registered line magic \u001b[32m'%load_node'\u001b[0m                                      \u001b]8;id=486861;file://c:\\Users\\vivek\\anaconda3\\envs\\cricket_kedro\\Lib\\site-packages\\kedro\\ipython\\__init__.py\u001b\\\u001b[2m__init__.py\u001b[0m\u001b]8;;\u001b\\\u001b[2m:\u001b[0m\u001b]8;id=779858;file://c:\\Users\\vivek\\anaconda3\\envs\\cricket_kedro\\Lib\\site-packages\\kedro\\ipython\\__init__.py#63\u001b\\\u001b[2m63\u001b[0m\u001b]8;;\u001b\\\n"
      ]
     },
     "metadata": {},
     "output_type": "display_data"
    },
    {
     "data": {
      "text/html": [
       "<pre style=\"white-space:pre;overflow-x:auto;line-height:normal;font-family:Menlo,'DejaVu Sans Mono',consolas,'Courier New',monospace\"><span style=\"color: #7fbfbf; text-decoration-color: #7fbfbf\">                    </span><span style=\"color: #000080; text-decoration-color: #000080\">INFO    </span> Resolved project path as: c:\\Users\\vivek\\OneDrive\\Documents\\<span style=\"color: #008080; text-decoration-color: #008080; font-weight: bold\">04</span> - My    <a href=\"file://c:\\Users\\vivek\\anaconda3\\envs\\cricket_kedro\\Lib\\site-packages\\kedro\\ipython\\__init__.py\" target=\"_blank\"><span style=\"color: #7f7f7f; text-decoration-color: #7f7f7f\">__init__.py</span></a><span style=\"color: #7f7f7f; text-decoration-color: #7f7f7f\">:</span><a href=\"file://c:\\Users\\vivek\\anaconda3\\envs\\cricket_kedro\\Lib\\site-packages\\kedro\\ipython\\__init__.py#178\" target=\"_blank\"><span style=\"color: #7f7f7f; text-decoration-color: #7f7f7f\">178</span></a>\n",
       "<span style=\"color: #7fbfbf; text-decoration-color: #7fbfbf\">                    </span>         Projects\\<span style=\"color: #008080; text-decoration-color: #008080; font-weight: bold\">26</span> - Cricket Data\\cricket.                                    <span style=\"color: #7f7f7f; text-decoration-color: #7f7f7f\">               </span>\n",
       "<span style=\"color: #7fbfbf; text-decoration-color: #7fbfbf\">                    </span>         To set a different path, run <span style=\"color: #008000; text-decoration-color: #008000\">'%reload_kedro &lt;project_root&gt;'</span>            <span style=\"color: #7f7f7f; text-decoration-color: #7f7f7f\">               </span>\n",
       "</pre>\n"
      ],
      "text/plain": [
       "\u001b[2;36m                   \u001b[0m\u001b[2;36m \u001b[0m\u001b[34mINFO    \u001b[0m Resolved project path as: c:\\Users\\vivek\\OneDrive\\Documents\\\u001b[1;36m04\u001b[0m - My    \u001b]8;id=55822;file://c:\\Users\\vivek\\anaconda3\\envs\\cricket_kedro\\Lib\\site-packages\\kedro\\ipython\\__init__.py\u001b\\\u001b[2m__init__.py\u001b[0m\u001b]8;;\u001b\\\u001b[2m:\u001b[0m\u001b]8;id=939200;file://c:\\Users\\vivek\\anaconda3\\envs\\cricket_kedro\\Lib\\site-packages\\kedro\\ipython\\__init__.py#178\u001b\\\u001b[2m178\u001b[0m\u001b]8;;\u001b\\\n",
       "\u001b[2;36m                    \u001b[0m         Projects\\\u001b[1;36m26\u001b[0m - Cricket Data\\cricket.                                    \u001b[2m               \u001b[0m\n",
       "\u001b[2;36m                    \u001b[0m         To set a different path, run \u001b[32m'%reload_kedro \u001b[0m\u001b[32m<\u001b[0m\u001b[32mproject_root\u001b[0m\u001b[32m>\u001b[0m\u001b[32m'\u001b[0m            \u001b[2m               \u001b[0m\n"
      ]
     },
     "metadata": {},
     "output_type": "display_data"
    },
    {
     "data": {
      "text/html": [
       "<pre style=\"white-space:pre;overflow-x:auto;line-height:normal;font-family:Menlo,'DejaVu Sans Mono',consolas,'Courier New',monospace\"><span style=\"color: #7fbfbf; text-decoration-color: #7fbfbf\">                    </span><span style=\"color: #808000; text-decoration-color: #808000\">WARNING </span> c:\\Users\\vivek\\anaconda3\\envs\\cricket_kedro\\Lib\\site-packages\\kedro_vi <a href=\"file://c:\\Users\\vivek\\anaconda3\\envs\\cricket_kedro\\Lib\\warnings.py\" target=\"_blank\"><span style=\"color: #7f7f7f; text-decoration-color: #7f7f7f\">warnings.py</span></a><span style=\"color: #7f7f7f; text-decoration-color: #7f7f7f\">:</span><a href=\"file://c:\\Users\\vivek\\anaconda3\\envs\\cricket_kedro\\Lib\\warnings.py#112\" target=\"_blank\"><span style=\"color: #7f7f7f; text-decoration-color: #7f7f7f\">112</span></a>\n",
       "<span style=\"color: #7fbfbf; text-decoration-color: #7fbfbf\">                    </span>         z\\__init__.py:<span style=\"color: #008080; text-decoration-color: #008080; font-weight: bold\">13</span>: KedroVizPythonVersionWarning: Please be advised that <span style=\"color: #7f7f7f; text-decoration-color: #7f7f7f\">               </span>\n",
       "<span style=\"color: #7fbfbf; text-decoration-color: #7fbfbf\">                    </span>         Kedro Viz is not yet fully                                             <span style=\"color: #7f7f7f; text-decoration-color: #7f7f7f\">               </span>\n",
       "<span style=\"color: #7fbfbf; text-decoration-color: #7fbfbf\">                    </span>                 compatible with the Python version you are currently using.    <span style=\"color: #7f7f7f; text-decoration-color: #7f7f7f\">               </span>\n",
       "<span style=\"color: #7fbfbf; text-decoration-color: #7fbfbf\">                    </span>           <span style=\"color: #800080; text-decoration-color: #800080; font-weight: bold\">warnings.warn</span><span style=\"font-weight: bold\">(</span>                                                       <span style=\"color: #7f7f7f; text-decoration-color: #7f7f7f\">               </span>\n",
       "<span style=\"color: #7fbfbf; text-decoration-color: #7fbfbf\">                    </span>                                                                                <span style=\"color: #7f7f7f; text-decoration-color: #7f7f7f\">               </span>\n",
       "</pre>\n"
      ],
      "text/plain": [
       "\u001b[2;36m                   \u001b[0m\u001b[2;36m \u001b[0m\u001b[33mWARNING \u001b[0m c:\\Users\\vivek\\anaconda3\\envs\\cricket_kedro\\Lib\\site-packages\\kedro_vi \u001b]8;id=830632;file://c:\\Users\\vivek\\anaconda3\\envs\\cricket_kedro\\Lib\\warnings.py\u001b\\\u001b[2mwarnings.py\u001b[0m\u001b]8;;\u001b\\\u001b[2m:\u001b[0m\u001b]8;id=731206;file://c:\\Users\\vivek\\anaconda3\\envs\\cricket_kedro\\Lib\\warnings.py#112\u001b\\\u001b[2m112\u001b[0m\u001b]8;;\u001b\\\n",
       "\u001b[2;36m                    \u001b[0m         z\\__init__.py:\u001b[1;36m13\u001b[0m: KedroVizPythonVersionWarning: Please be advised that \u001b[2m               \u001b[0m\n",
       "\u001b[2;36m                    \u001b[0m         Kedro Viz is not yet fully                                             \u001b[2m               \u001b[0m\n",
       "\u001b[2;36m                    \u001b[0m                 compatible with the Python version you are currently using.    \u001b[2m               \u001b[0m\n",
       "\u001b[2;36m                    \u001b[0m           \u001b[1;35mwarnings.warn\u001b[0m\u001b[1m(\u001b[0m                                                       \u001b[2m               \u001b[0m\n",
       "\u001b[2;36m                    \u001b[0m                                                                                \u001b[2m               \u001b[0m\n"
      ]
     },
     "metadata": {},
     "output_type": "display_data"
    },
    {
     "data": {
      "text/html": [
       "<pre style=\"white-space:pre;overflow-x:auto;line-height:normal;font-family:Menlo,'DejaVu Sans Mono',consolas,'Courier New',monospace\"><span style=\"color: #7fbfbf; text-decoration-color: #7fbfbf\">[11/11/24 23:39:04] </span><span style=\"color: #000080; text-decoration-color: #000080\">INFO    </span> Kedro is sending anonymous usage data with the sole purpose of improving <a href=\"file://c:\\Users\\vivek\\anaconda3\\envs\\cricket_kedro\\Lib\\site-packages\\kedro_telemetry\\plugin.py\" target=\"_blank\"><span style=\"color: #7f7f7f; text-decoration-color: #7f7f7f\">plugin.py</span></a><span style=\"color: #7f7f7f; text-decoration-color: #7f7f7f\">:</span><a href=\"file://c:\\Users\\vivek\\anaconda3\\envs\\cricket_kedro\\Lib\\site-packages\\kedro_telemetry\\plugin.py#233\" target=\"_blank\"><span style=\"color: #7f7f7f; text-decoration-color: #7f7f7f\">233</span></a>\n",
       "<span style=\"color: #7fbfbf; text-decoration-color: #7fbfbf\">                    </span>         the product. No personal data or IP addresses are stored on our side. If <span style=\"color: #7f7f7f; text-decoration-color: #7f7f7f\">             </span>\n",
       "<span style=\"color: #7fbfbf; text-decoration-color: #7fbfbf\">                    </span>         you want to opt out, set the `KEDRO_DISABLE_TELEMETRY` or `DO_NOT_TRACK` <span style=\"color: #7f7f7f; text-decoration-color: #7f7f7f\">             </span>\n",
       "<span style=\"color: #7fbfbf; text-decoration-color: #7fbfbf\">                    </span>         environment variables, or create a `.telemetry` file in the current      <span style=\"color: #7f7f7f; text-decoration-color: #7f7f7f\">             </span>\n",
       "<span style=\"color: #7fbfbf; text-decoration-color: #7fbfbf\">                    </span>         working directory with the contents `consent: false`. Read more at       <span style=\"color: #7f7f7f; text-decoration-color: #7f7f7f\">             </span>\n",
       "<span style=\"color: #7fbfbf; text-decoration-color: #7fbfbf\">                    </span>         <span style=\"color: #0000ff; text-decoration-color: #0000ff; text-decoration: underline\">https://docs.kedro.org/en/stable/configuration/telemetry.html</span>            <span style=\"color: #7f7f7f; text-decoration-color: #7f7f7f\">             </span>\n",
       "</pre>\n"
      ],
      "text/plain": [
       "\u001b[2;36m[11/11/24 23:39:04]\u001b[0m\u001b[2;36m \u001b[0m\u001b[34mINFO    \u001b[0m Kedro is sending anonymous usage data with the sole purpose of improving \u001b]8;id=512157;file://c:\\Users\\vivek\\anaconda3\\envs\\cricket_kedro\\Lib\\site-packages\\kedro_telemetry\\plugin.py\u001b\\\u001b[2mplugin.py\u001b[0m\u001b]8;;\u001b\\\u001b[2m:\u001b[0m\u001b]8;id=935812;file://c:\\Users\\vivek\\anaconda3\\envs\\cricket_kedro\\Lib\\site-packages\\kedro_telemetry\\plugin.py#233\u001b\\\u001b[2m233\u001b[0m\u001b]8;;\u001b\\\n",
       "\u001b[2;36m                    \u001b[0m         the product. No personal data or IP addresses are stored on our side. If \u001b[2m             \u001b[0m\n",
       "\u001b[2;36m                    \u001b[0m         you want to opt out, set the `KEDRO_DISABLE_TELEMETRY` or `DO_NOT_TRACK` \u001b[2m             \u001b[0m\n",
       "\u001b[2;36m                    \u001b[0m         environment variables, or create a `.telemetry` file in the current      \u001b[2m             \u001b[0m\n",
       "\u001b[2;36m                    \u001b[0m         working directory with the contents `consent: false`. Read more at       \u001b[2m             \u001b[0m\n",
       "\u001b[2;36m                    \u001b[0m         \u001b[4;94mhttps://docs.kedro.org/en/stable/configuration/telemetry.html\u001b[0m            \u001b[2m             \u001b[0m\n"
      ]
     },
     "metadata": {},
     "output_type": "display_data"
    },
    {
     "data": {
      "text/html": [
       "<pre style=\"white-space:pre;overflow-x:auto;line-height:normal;font-family:Menlo,'DejaVu Sans Mono',consolas,'Courier New',monospace\"><span style=\"color: #7fbfbf; text-decoration-color: #7fbfbf\">                    </span><span style=\"color: #000080; text-decoration-color: #000080\">INFO    </span> Kedro project cricket                                                  <a href=\"file://c:\\Users\\vivek\\anaconda3\\envs\\cricket_kedro\\Lib\\site-packages\\kedro\\ipython\\__init__.py\" target=\"_blank\"><span style=\"color: #7f7f7f; text-decoration-color: #7f7f7f\">__init__.py</span></a><span style=\"color: #7f7f7f; text-decoration-color: #7f7f7f\">:</span><a href=\"file://c:\\Users\\vivek\\anaconda3\\envs\\cricket_kedro\\Lib\\site-packages\\kedro\\ipython\\__init__.py#144\" target=\"_blank\"><span style=\"color: #7f7f7f; text-decoration-color: #7f7f7f\">144</span></a>\n",
       "</pre>\n"
      ],
      "text/plain": [
       "\u001b[2;36m                   \u001b[0m\u001b[2;36m \u001b[0m\u001b[34mINFO    \u001b[0m Kedro project cricket                                                  \u001b]8;id=586242;file://c:\\Users\\vivek\\anaconda3\\envs\\cricket_kedro\\Lib\\site-packages\\kedro\\ipython\\__init__.py\u001b\\\u001b[2m__init__.py\u001b[0m\u001b]8;;\u001b\\\u001b[2m:\u001b[0m\u001b]8;id=802824;file://c:\\Users\\vivek\\anaconda3\\envs\\cricket_kedro\\Lib\\site-packages\\kedro\\ipython\\__init__.py#144\u001b\\\u001b[2m144\u001b[0m\u001b]8;;\u001b\\\n"
      ]
     },
     "metadata": {},
     "output_type": "display_data"
    },
    {
     "data": {
      "text/html": [
       "<pre style=\"white-space:pre;overflow-x:auto;line-height:normal;font-family:Menlo,'DejaVu Sans Mono',consolas,'Courier New',monospace\"><span style=\"color: #7fbfbf; text-decoration-color: #7fbfbf\">                    </span><span style=\"color: #000080; text-decoration-color: #000080\">INFO    </span> Defined global variable <span style=\"color: #008000; text-decoration-color: #008000\">'context'</span>, <span style=\"color: #008000; text-decoration-color: #008000\">'session'</span>, <span style=\"color: #008000; text-decoration-color: #008000\">'catalog'</span> and            <a href=\"file://c:\\Users\\vivek\\anaconda3\\envs\\cricket_kedro\\Lib\\site-packages\\kedro\\ipython\\__init__.py\" target=\"_blank\"><span style=\"color: #7f7f7f; text-decoration-color: #7f7f7f\">__init__.py</span></a><span style=\"color: #7f7f7f; text-decoration-color: #7f7f7f\">:</span><a href=\"file://c:\\Users\\vivek\\anaconda3\\envs\\cricket_kedro\\Lib\\site-packages\\kedro\\ipython\\__init__.py#145\" target=\"_blank\"><span style=\"color: #7f7f7f; text-decoration-color: #7f7f7f\">145</span></a>\n",
       "<span style=\"color: #7fbfbf; text-decoration-color: #7fbfbf\">                    </span>         <span style=\"color: #008000; text-decoration-color: #008000\">'pipelines'</span>                                                            <span style=\"color: #7f7f7f; text-decoration-color: #7f7f7f\">               </span>\n",
       "</pre>\n"
      ],
      "text/plain": [
       "\u001b[2;36m                   \u001b[0m\u001b[2;36m \u001b[0m\u001b[34mINFO    \u001b[0m Defined global variable \u001b[32m'context'\u001b[0m, \u001b[32m'session'\u001b[0m, \u001b[32m'catalog'\u001b[0m and            \u001b]8;id=186562;file://c:\\Users\\vivek\\anaconda3\\envs\\cricket_kedro\\Lib\\site-packages\\kedro\\ipython\\__init__.py\u001b\\\u001b[2m__init__.py\u001b[0m\u001b]8;;\u001b\\\u001b[2m:\u001b[0m\u001b]8;id=279332;file://c:\\Users\\vivek\\anaconda3\\envs\\cricket_kedro\\Lib\\site-packages\\kedro\\ipython\\__init__.py#145\u001b\\\u001b[2m145\u001b[0m\u001b]8;;\u001b\\\n",
       "\u001b[2;36m                    \u001b[0m         \u001b[32m'pipelines'\u001b[0m                                                            \u001b[2m               \u001b[0m\n"
      ]
     },
     "metadata": {},
     "output_type": "display_data"
    },
    {
     "data": {
      "text/html": [
       "<pre style=\"white-space:pre;overflow-x:auto;line-height:normal;font-family:Menlo,'DejaVu Sans Mono',consolas,'Courier New',monospace\"><span style=\"color: #7fbfbf; text-decoration-color: #7fbfbf\">[11/11/24 23:39:05] </span><span style=\"color: #000080; text-decoration-color: #000080\">INFO    </span> Registered line magic <span style=\"color: #008000; text-decoration-color: #008000\">'run_viz'</span>                                        <a href=\"file://c:\\Users\\vivek\\anaconda3\\envs\\cricket_kedro\\Lib\\site-packages\\kedro\\ipython\\__init__.py\" target=\"_blank\"><span style=\"color: #7f7f7f; text-decoration-color: #7f7f7f\">__init__.py</span></a><span style=\"color: #7f7f7f; text-decoration-color: #7f7f7f\">:</span><a href=\"file://c:\\Users\\vivek\\anaconda3\\envs\\cricket_kedro\\Lib\\site-packages\\kedro\\ipython\\__init__.py#151\" target=\"_blank\"><span style=\"color: #7f7f7f; text-decoration-color: #7f7f7f\">151</span></a>\n",
       "</pre>\n"
      ],
      "text/plain": [
       "\u001b[2;36m[11/11/24 23:39:05]\u001b[0m\u001b[2;36m \u001b[0m\u001b[34mINFO    \u001b[0m Registered line magic \u001b[32m'run_viz'\u001b[0m                                        \u001b]8;id=462669;file://c:\\Users\\vivek\\anaconda3\\envs\\cricket_kedro\\Lib\\site-packages\\kedro\\ipython\\__init__.py\u001b\\\u001b[2m__init__.py\u001b[0m\u001b]8;;\u001b\\\u001b[2m:\u001b[0m\u001b]8;id=125662;file://c:\\Users\\vivek\\anaconda3\\envs\\cricket_kedro\\Lib\\site-packages\\kedro\\ipython\\__init__.py#151\u001b\\\u001b[2m151\u001b[0m\u001b]8;;\u001b\\\n"
      ]
     },
     "metadata": {},
     "output_type": "display_data"
    }
   ],
   "source": [
    "%load_ext kedro.ipython"
   ]
  },
  {
   "cell_type": "code",
   "execution_count": 2,
   "metadata": {},
   "outputs": [
    {
     "data": {
      "text/html": [
       "<pre style=\"white-space:pre;overflow-x:auto;line-height:normal;font-family:Menlo,'DejaVu Sans Mono',consolas,'Courier New',monospace\"><span style=\"color: #7fbfbf; text-decoration-color: #7fbfbf\">                    </span><span style=\"color: #000080; text-decoration-color: #000080\">INFO    </span> Resolved project path as: C:\\Users\\vivek\\OneDrive\\Documents\\<span style=\"color: #008080; text-decoration-color: #008080; font-weight: bold\">04</span> - My    <a href=\"file://c:\\Users\\vivek\\anaconda3\\envs\\cricket_kedro\\Lib\\site-packages\\kedro\\ipython\\__init__.py\" target=\"_blank\"><span style=\"color: #7f7f7f; text-decoration-color: #7f7f7f\">__init__.py</span></a><span style=\"color: #7f7f7f; text-decoration-color: #7f7f7f\">:</span><a href=\"file://c:\\Users\\vivek\\anaconda3\\envs\\cricket_kedro\\Lib\\site-packages\\kedro\\ipython\\__init__.py#178\" target=\"_blank\"><span style=\"color: #7f7f7f; text-decoration-color: #7f7f7f\">178</span></a>\n",
       "<span style=\"color: #7fbfbf; text-decoration-color: #7fbfbf\">                    </span>         Projects\\<span style=\"color: #008080; text-decoration-color: #008080; font-weight: bold\">26</span> - Cricket Data\\cricket.                                    <span style=\"color: #7f7f7f; text-decoration-color: #7f7f7f\">               </span>\n",
       "<span style=\"color: #7fbfbf; text-decoration-color: #7fbfbf\">                    </span>         To set a different path, run <span style=\"color: #008000; text-decoration-color: #008000\">'%reload_kedro &lt;project_root&gt;'</span>            <span style=\"color: #7f7f7f; text-decoration-color: #7f7f7f\">               </span>\n",
       "</pre>\n"
      ],
      "text/plain": [
       "\u001b[2;36m                   \u001b[0m\u001b[2;36m \u001b[0m\u001b[34mINFO    \u001b[0m Resolved project path as: C:\\Users\\vivek\\OneDrive\\Documents\\\u001b[1;36m04\u001b[0m - My    \u001b]8;id=727504;file://c:\\Users\\vivek\\anaconda3\\envs\\cricket_kedro\\Lib\\site-packages\\kedro\\ipython\\__init__.py\u001b\\\u001b[2m__init__.py\u001b[0m\u001b]8;;\u001b\\\u001b[2m:\u001b[0m\u001b]8;id=423642;file://c:\\Users\\vivek\\anaconda3\\envs\\cricket_kedro\\Lib\\site-packages\\kedro\\ipython\\__init__.py#178\u001b\\\u001b[2m178\u001b[0m\u001b]8;;\u001b\\\n",
       "\u001b[2;36m                    \u001b[0m         Projects\\\u001b[1;36m26\u001b[0m - Cricket Data\\cricket.                                    \u001b[2m               \u001b[0m\n",
       "\u001b[2;36m                    \u001b[0m         To set a different path, run \u001b[32m'%reload_kedro \u001b[0m\u001b[32m<\u001b[0m\u001b[32mproject_root\u001b[0m\u001b[32m>\u001b[0m\u001b[32m'\u001b[0m            \u001b[2m               \u001b[0m\n"
      ]
     },
     "metadata": {},
     "output_type": "display_data"
    },
    {
     "data": {
      "text/html": [
       "<pre style=\"white-space:pre;overflow-x:auto;line-height:normal;font-family:Menlo,'DejaVu Sans Mono',consolas,'Courier New',monospace\"><span style=\"color: #7fbfbf; text-decoration-color: #7fbfbf\">[11/11/24 23:39:06] </span><span style=\"color: #000080; text-decoration-color: #000080\">INFO    </span> Kedro is sending anonymous usage data with the sole purpose of improving <a href=\"file://c:\\Users\\vivek\\anaconda3\\envs\\cricket_kedro\\Lib\\site-packages\\kedro_telemetry\\plugin.py\" target=\"_blank\"><span style=\"color: #7f7f7f; text-decoration-color: #7f7f7f\">plugin.py</span></a><span style=\"color: #7f7f7f; text-decoration-color: #7f7f7f\">:</span><a href=\"file://c:\\Users\\vivek\\anaconda3\\envs\\cricket_kedro\\Lib\\site-packages\\kedro_telemetry\\plugin.py#233\" target=\"_blank\"><span style=\"color: #7f7f7f; text-decoration-color: #7f7f7f\">233</span></a>\n",
       "<span style=\"color: #7fbfbf; text-decoration-color: #7fbfbf\">                    </span>         the product. No personal data or IP addresses are stored on our side. If <span style=\"color: #7f7f7f; text-decoration-color: #7f7f7f\">             </span>\n",
       "<span style=\"color: #7fbfbf; text-decoration-color: #7fbfbf\">                    </span>         you want to opt out, set the `KEDRO_DISABLE_TELEMETRY` or `DO_NOT_TRACK` <span style=\"color: #7f7f7f; text-decoration-color: #7f7f7f\">             </span>\n",
       "<span style=\"color: #7fbfbf; text-decoration-color: #7fbfbf\">                    </span>         environment variables, or create a `.telemetry` file in the current      <span style=\"color: #7f7f7f; text-decoration-color: #7f7f7f\">             </span>\n",
       "<span style=\"color: #7fbfbf; text-decoration-color: #7fbfbf\">                    </span>         working directory with the contents `consent: false`. Read more at       <span style=\"color: #7f7f7f; text-decoration-color: #7f7f7f\">             </span>\n",
       "<span style=\"color: #7fbfbf; text-decoration-color: #7fbfbf\">                    </span>         <span style=\"color: #0000ff; text-decoration-color: #0000ff; text-decoration: underline\">https://docs.kedro.org/en/stable/configuration/telemetry.html</span>            <span style=\"color: #7f7f7f; text-decoration-color: #7f7f7f\">             </span>\n",
       "</pre>\n"
      ],
      "text/plain": [
       "\u001b[2;36m[11/11/24 23:39:06]\u001b[0m\u001b[2;36m \u001b[0m\u001b[34mINFO    \u001b[0m Kedro is sending anonymous usage data with the sole purpose of improving \u001b]8;id=997573;file://c:\\Users\\vivek\\anaconda3\\envs\\cricket_kedro\\Lib\\site-packages\\kedro_telemetry\\plugin.py\u001b\\\u001b[2mplugin.py\u001b[0m\u001b]8;;\u001b\\\u001b[2m:\u001b[0m\u001b]8;id=900831;file://c:\\Users\\vivek\\anaconda3\\envs\\cricket_kedro\\Lib\\site-packages\\kedro_telemetry\\plugin.py#233\u001b\\\u001b[2m233\u001b[0m\u001b]8;;\u001b\\\n",
       "\u001b[2;36m                    \u001b[0m         the product. No personal data or IP addresses are stored on our side. If \u001b[2m             \u001b[0m\n",
       "\u001b[2;36m                    \u001b[0m         you want to opt out, set the `KEDRO_DISABLE_TELEMETRY` or `DO_NOT_TRACK` \u001b[2m             \u001b[0m\n",
       "\u001b[2;36m                    \u001b[0m         environment variables, or create a `.telemetry` file in the current      \u001b[2m             \u001b[0m\n",
       "\u001b[2;36m                    \u001b[0m         working directory with the contents `consent: false`. Read more at       \u001b[2m             \u001b[0m\n",
       "\u001b[2;36m                    \u001b[0m         \u001b[4;94mhttps://docs.kedro.org/en/stable/configuration/telemetry.html\u001b[0m            \u001b[2m             \u001b[0m\n"
      ]
     },
     "metadata": {},
     "output_type": "display_data"
    },
    {
     "data": {
      "text/html": [
       "<pre style=\"white-space:pre;overflow-x:auto;line-height:normal;font-family:Menlo,'DejaVu Sans Mono',consolas,'Courier New',monospace\"><span style=\"color: #7fbfbf; text-decoration-color: #7fbfbf\">                    </span><span style=\"color: #000080; text-decoration-color: #000080\">INFO    </span> Kedro project cricket                                                  <a href=\"file://c:\\Users\\vivek\\anaconda3\\envs\\cricket_kedro\\Lib\\site-packages\\kedro\\ipython\\__init__.py\" target=\"_blank\"><span style=\"color: #7f7f7f; text-decoration-color: #7f7f7f\">__init__.py</span></a><span style=\"color: #7f7f7f; text-decoration-color: #7f7f7f\">:</span><a href=\"file://c:\\Users\\vivek\\anaconda3\\envs\\cricket_kedro\\Lib\\site-packages\\kedro\\ipython\\__init__.py#144\" target=\"_blank\"><span style=\"color: #7f7f7f; text-decoration-color: #7f7f7f\">144</span></a>\n",
       "</pre>\n"
      ],
      "text/plain": [
       "\u001b[2;36m                   \u001b[0m\u001b[2;36m \u001b[0m\u001b[34mINFO    \u001b[0m Kedro project cricket                                                  \u001b]8;id=211460;file://c:\\Users\\vivek\\anaconda3\\envs\\cricket_kedro\\Lib\\site-packages\\kedro\\ipython\\__init__.py\u001b\\\u001b[2m__init__.py\u001b[0m\u001b]8;;\u001b\\\u001b[2m:\u001b[0m\u001b]8;id=939115;file://c:\\Users\\vivek\\anaconda3\\envs\\cricket_kedro\\Lib\\site-packages\\kedro\\ipython\\__init__.py#144\u001b\\\u001b[2m144\u001b[0m\u001b]8;;\u001b\\\n"
      ]
     },
     "metadata": {},
     "output_type": "display_data"
    },
    {
     "data": {
      "text/html": [
       "<pre style=\"white-space:pre;overflow-x:auto;line-height:normal;font-family:Menlo,'DejaVu Sans Mono',consolas,'Courier New',monospace\"><span style=\"color: #7fbfbf; text-decoration-color: #7fbfbf\">                    </span><span style=\"color: #000080; text-decoration-color: #000080\">INFO    </span> Defined global variable <span style=\"color: #008000; text-decoration-color: #008000\">'context'</span>, <span style=\"color: #008000; text-decoration-color: #008000\">'session'</span>, <span style=\"color: #008000; text-decoration-color: #008000\">'catalog'</span> and            <a href=\"file://c:\\Users\\vivek\\anaconda3\\envs\\cricket_kedro\\Lib\\site-packages\\kedro\\ipython\\__init__.py\" target=\"_blank\"><span style=\"color: #7f7f7f; text-decoration-color: #7f7f7f\">__init__.py</span></a><span style=\"color: #7f7f7f; text-decoration-color: #7f7f7f\">:</span><a href=\"file://c:\\Users\\vivek\\anaconda3\\envs\\cricket_kedro\\Lib\\site-packages\\kedro\\ipython\\__init__.py#145\" target=\"_blank\"><span style=\"color: #7f7f7f; text-decoration-color: #7f7f7f\">145</span></a>\n",
       "<span style=\"color: #7fbfbf; text-decoration-color: #7fbfbf\">                    </span>         <span style=\"color: #008000; text-decoration-color: #008000\">'pipelines'</span>                                                            <span style=\"color: #7f7f7f; text-decoration-color: #7f7f7f\">               </span>\n",
       "</pre>\n"
      ],
      "text/plain": [
       "\u001b[2;36m                   \u001b[0m\u001b[2;36m \u001b[0m\u001b[34mINFO    \u001b[0m Defined global variable \u001b[32m'context'\u001b[0m, \u001b[32m'session'\u001b[0m, \u001b[32m'catalog'\u001b[0m and            \u001b]8;id=337513;file://c:\\Users\\vivek\\anaconda3\\envs\\cricket_kedro\\Lib\\site-packages\\kedro\\ipython\\__init__.py\u001b\\\u001b[2m__init__.py\u001b[0m\u001b]8;;\u001b\\\u001b[2m:\u001b[0m\u001b]8;id=611584;file://c:\\Users\\vivek\\anaconda3\\envs\\cricket_kedro\\Lib\\site-packages\\kedro\\ipython\\__init__.py#145\u001b\\\u001b[2m145\u001b[0m\u001b]8;;\u001b\\\n",
       "\u001b[2;36m                    \u001b[0m         \u001b[32m'pipelines'\u001b[0m                                                            \u001b[2m               \u001b[0m\n"
      ]
     },
     "metadata": {},
     "output_type": "display_data"
    },
    {
     "data": {
      "text/html": [
       "<pre style=\"white-space:pre;overflow-x:auto;line-height:normal;font-family:Menlo,'DejaVu Sans Mono',consolas,'Courier New',monospace\"><span style=\"color: #7fbfbf; text-decoration-color: #7fbfbf\">                    </span><span style=\"color: #000080; text-decoration-color: #000080\">INFO    </span> Registered line magic <span style=\"color: #008000; text-decoration-color: #008000\">'run_viz'</span>                                        <a href=\"file://c:\\Users\\vivek\\anaconda3\\envs\\cricket_kedro\\Lib\\site-packages\\kedro\\ipython\\__init__.py\" target=\"_blank\"><span style=\"color: #7f7f7f; text-decoration-color: #7f7f7f\">__init__.py</span></a><span style=\"color: #7f7f7f; text-decoration-color: #7f7f7f\">:</span><a href=\"file://c:\\Users\\vivek\\anaconda3\\envs\\cricket_kedro\\Lib\\site-packages\\kedro\\ipython\\__init__.py#151\" target=\"_blank\"><span style=\"color: #7f7f7f; text-decoration-color: #7f7f7f\">151</span></a>\n",
       "</pre>\n"
      ],
      "text/plain": [
       "\u001b[2;36m                   \u001b[0m\u001b[2;36m \u001b[0m\u001b[34mINFO    \u001b[0m Registered line magic \u001b[32m'run_viz'\u001b[0m                                        \u001b]8;id=701515;file://c:\\Users\\vivek\\anaconda3\\envs\\cricket_kedro\\Lib\\site-packages\\kedro\\ipython\\__init__.py\u001b\\\u001b[2m__init__.py\u001b[0m\u001b]8;;\u001b\\\u001b[2m:\u001b[0m\u001b]8;id=946459;file://c:\\Users\\vivek\\anaconda3\\envs\\cricket_kedro\\Lib\\site-packages\\kedro\\ipython\\__init__.py#151\u001b\\\u001b[2m151\u001b[0m\u001b]8;;\u001b\\\n"
      ]
     },
     "metadata": {},
     "output_type": "display_data"
    }
   ],
   "source": [
    "%reload_kedro"
   ]
  },
  {
   "cell_type": "code",
   "execution_count": null,
   "metadata": {},
   "outputs": [],
   "source": []
  },
  {
   "cell_type": "code",
   "execution_count": 4,
   "metadata": {},
   "outputs": [
    {
     "data": {
      "text/html": [
       "<pre style=\"white-space:pre;overflow-x:auto;line-height:normal;font-family:Menlo,'DejaVu Sans Mono',consolas,'Courier New',monospace\"><span style=\"color: #7fbfbf; text-decoration-color: #7fbfbf\">[11/11/24 23:39:12] </span><span style=\"color: #000080; text-decoration-color: #000080\">INFO    </span> Loading data from <span style=\"color: #ff8700; text-decoration-color: #ff8700\">parameters</span> <span style=\"font-weight: bold\">(</span>MemoryDataset<span style=\"font-weight: bold\">)</span><span style=\"color: #808000; text-decoration-color: #808000\">...</span>                    <a href=\"file://c:\\Users\\vivek\\anaconda3\\envs\\cricket_kedro\\Lib\\site-packages\\kedro\\io\\data_catalog.py\" target=\"_blank\"><span style=\"color: #7f7f7f; text-decoration-color: #7f7f7f\">data_catalog.py</span></a><span style=\"color: #7f7f7f; text-decoration-color: #7f7f7f\">:</span><a href=\"file://c:\\Users\\vivek\\anaconda3\\envs\\cricket_kedro\\Lib\\site-packages\\kedro\\io\\data_catalog.py#389\" target=\"_blank\"><span style=\"color: #7f7f7f; text-decoration-color: #7f7f7f\">389</span></a>\n",
       "</pre>\n"
      ],
      "text/plain": [
       "\u001b[2;36m[11/11/24 23:39:12]\u001b[0m\u001b[2;36m \u001b[0m\u001b[34mINFO    \u001b[0m Loading data from \u001b[38;5;208mparameters\u001b[0m \u001b[1m(\u001b[0mMemoryDataset\u001b[1m)\u001b[0m\u001b[33m...\u001b[0m                    \u001b]8;id=262027;file://c:\\Users\\vivek\\anaconda3\\envs\\cricket_kedro\\Lib\\site-packages\\kedro\\io\\data_catalog.py\u001b\\\u001b[2mdata_catalog.py\u001b[0m\u001b]8;;\u001b\\\u001b[2m:\u001b[0m\u001b]8;id=175184;file://c:\\Users\\vivek\\anaconda3\\envs\\cricket_kedro\\Lib\\site-packages\\kedro\\io\\data_catalog.py#389\u001b\\\u001b[2m389\u001b[0m\u001b]8;;\u001b\\\n"
      ]
     },
     "metadata": {},
     "output_type": "display_data"
    }
   ],
   "source": [
    "params = catalog.load(\"parameters\")"
   ]
  },
  {
   "cell_type": "code",
   "execution_count": null,
   "metadata": {},
   "outputs": [
    {
     "data": {
      "text/html": [
       "<pre style=\"white-space:pre;overflow-x:auto;line-height:normal;font-family:Menlo,'DejaVu Sans Mono',consolas,'Courier New',monospace\"><span style=\"color: #7fbfbf; text-decoration-color: #7fbfbf\">[11/11/24 23:40:03] </span><span style=\"color: #000080; text-decoration-color: #000080\">INFO    </span> Loading data from <span style=\"color: #ff8700; text-decoration-color: #ff8700\">cricket_dataset</span> <span style=\"font-weight: bold\">(</span>LazyPolarsDataset<span style=\"font-weight: bold\">)</span><span style=\"color: #808000; text-decoration-color: #808000\">...</span>           <a href=\"file://c:\\Users\\vivek\\anaconda3\\envs\\cricket_kedro\\Lib\\site-packages\\kedro\\io\\data_catalog.py\" target=\"_blank\"><span style=\"color: #7f7f7f; text-decoration-color: #7f7f7f\">data_catalog.py</span></a><span style=\"color: #7f7f7f; text-decoration-color: #7f7f7f\">:</span><a href=\"file://c:\\Users\\vivek\\anaconda3\\envs\\cricket_kedro\\Lib\\site-packages\\kedro\\io\\data_catalog.py#389\" target=\"_blank\"><span style=\"color: #7f7f7f; text-decoration-color: #7f7f7f\">389</span></a>\n",
       "</pre>\n"
      ],
      "text/plain": [
       "\u001b[2;36m[11/11/24 23:40:03]\u001b[0m\u001b[2;36m \u001b[0m\u001b[34mINFO    \u001b[0m Loading data from \u001b[38;5;208mcricket_dataset\u001b[0m \u001b[1m(\u001b[0mLazyPolarsDataset\u001b[1m)\u001b[0m\u001b[33m...\u001b[0m           \u001b]8;id=594110;file://c:\\Users\\vivek\\anaconda3\\envs\\cricket_kedro\\Lib\\site-packages\\kedro\\io\\data_catalog.py\u001b\\\u001b[2mdata_catalog.py\u001b[0m\u001b]8;;\u001b\\\u001b[2m:\u001b[0m\u001b]8;id=54822;file://c:\\Users\\vivek\\anaconda3\\envs\\cricket_kedro\\Lib\\site-packages\\kedro\\io\\data_catalog.py#389\u001b\\\u001b[2m389\u001b[0m\u001b]8;;\u001b\\\n"
      ]
     },
     "metadata": {},
     "output_type": "display_data"
    }
   ],
   "source": [
    "df_cric = catalog.load(\"cricket_dataset\")"
   ]
  },
  {
   "cell_type": "code",
   "execution_count": 7,
   "metadata": {},
   "outputs": [
    {
     "data": {
      "text/html": [
       "<pre style=\"white-space:pre;overflow-x:auto;line-height:normal;font-family:Menlo,'DejaVu Sans Mono',consolas,'Courier New',monospace\"></pre>\n"
      ],
      "text/plain": []
     },
     "metadata": {},
     "output_type": "display_data"
    },
    {
     "data": {
      "text/html": [
       "<div><style>\n",
       ".dataframe > thead > tr,\n",
       ".dataframe > tbody > tr {\n",
       "  text-align: right;\n",
       "  white-space: pre-wrap;\n",
       "}\n",
       "</style>\n",
       "<small>shape: (9_448_329, 36)</small><table border=\"1\" class=\"dataframe\"><thead><tr><th>delivery_id</th><th>match_id</th><th>innings</th><th>batting_team</th><th>bowling_team</th><th>declared</th><th>bowler</th><th>batter</th><th>non_striker</th><th>player_out</th><th>delivery</th><th>over</th><th>ball</th><th>wickets</th><th>batter_runs</th><th>extra_runs</th><th>total_runs</th><th>six</th><th>four</th><th>wicket_type</th><th>city</th><th>match_start_date</th><th>match_end_date</th><th>match_type</th><th>gender</th><th>umpire_1</th><th>umpire_2</th><th>win_by</th><th>win_margin</th><th>winner</th><th>player_of_match</th><th>team1</th><th>team2</th><th>toss_decision</th><th>toss_winner</th><th>venue</th></tr><tr><td>u32</td><td>str</td><td>str</td><td>str</td><td>str</td><td>i8</td><td>str</td><td>str</td><td>str</td><td>str</td><td>f64</td><td>i64</td><td>i64</td><td>i32</td><td>i64</td><td>i64</td><td>i64</td><td>i32</td><td>i32</td><td>str</td><td>str</td><td>datetime[ns]</td><td>datetime[ns]</td><td>str</td><td>str</td><td>str</td><td>str</td><td>str</td><td>f64</td><td>str</td><td>str</td><td>str</td><td>str</td><td>str</td><td>str</td><td>str</td></tr></thead><tbody><tr><td>1</td><td>&quot;1000851&quot;</td><td>&quot;1st innings&quot;</td><td>&quot;South Africa&quot;</td><td>&quot;Australia&quot;</td><td>0</td><td>&quot;Mitchell Starc&quot;</td><td>&quot;Stephen Cook&quot;</td><td>&quot;Dean Elgar&quot;</td><td>null</td><td>0.1</td><td>1</td><td>1</td><td>0</td><td>0</td><td>0</td><td>0</td><td>0</td><td>0</td><td>null</td><td>&quot;Perth&quot;</td><td>2016-11-03 00:00:00</td><td>2016-11-07 00:00:00</td><td>&quot;Test&quot;</td><td>&quot;male&quot;</td><td>&quot;Aleem Dar&quot;</td><td>&quot;NJ Llong&quot;</td><td>&quot;runs&quot;</td><td>177.0</td><td>&quot;South Africa&quot;</td><td>&quot;K Rabada&quot;</td><td>&quot;Australia&quot;</td><td>&quot;South Africa&quot;</td><td>&quot;bat&quot;</td><td>&quot;South Africa&quot;</td><td>&quot;Western Australia Cricket Asso…</td></tr><tr><td>2</td><td>&quot;1000851&quot;</td><td>&quot;1st innings&quot;</td><td>&quot;South Africa&quot;</td><td>&quot;Australia&quot;</td><td>0</td><td>&quot;Mitchell Starc&quot;</td><td>&quot;Stephen Cook&quot;</td><td>&quot;Dean Elgar&quot;</td><td>null</td><td>0.2</td><td>1</td><td>2</td><td>0</td><td>0</td><td>0</td><td>0</td><td>0</td><td>0</td><td>null</td><td>&quot;Perth&quot;</td><td>2016-11-03 00:00:00</td><td>2016-11-07 00:00:00</td><td>&quot;Test&quot;</td><td>&quot;male&quot;</td><td>&quot;Aleem Dar&quot;</td><td>&quot;NJ Llong&quot;</td><td>&quot;runs&quot;</td><td>177.0</td><td>&quot;South Africa&quot;</td><td>&quot;K Rabada&quot;</td><td>&quot;Australia&quot;</td><td>&quot;South Africa&quot;</td><td>&quot;bat&quot;</td><td>&quot;South Africa&quot;</td><td>&quot;Western Australia Cricket Asso…</td></tr><tr><td>3</td><td>&quot;1000851&quot;</td><td>&quot;1st innings&quot;</td><td>&quot;South Africa&quot;</td><td>&quot;Australia&quot;</td><td>0</td><td>&quot;Mitchell Starc&quot;</td><td>&quot;Stephen Cook&quot;</td><td>&quot;Dean Elgar&quot;</td><td>null</td><td>0.3</td><td>1</td><td>3</td><td>0</td><td>0</td><td>0</td><td>0</td><td>0</td><td>0</td><td>null</td><td>&quot;Perth&quot;</td><td>2016-11-03 00:00:00</td><td>2016-11-07 00:00:00</td><td>&quot;Test&quot;</td><td>&quot;male&quot;</td><td>&quot;Aleem Dar&quot;</td><td>&quot;NJ Llong&quot;</td><td>&quot;runs&quot;</td><td>177.0</td><td>&quot;South Africa&quot;</td><td>&quot;K Rabada&quot;</td><td>&quot;Australia&quot;</td><td>&quot;South Africa&quot;</td><td>&quot;bat&quot;</td><td>&quot;South Africa&quot;</td><td>&quot;Western Australia Cricket Asso…</td></tr><tr><td>4</td><td>&quot;1000851&quot;</td><td>&quot;1st innings&quot;</td><td>&quot;South Africa&quot;</td><td>&quot;Australia&quot;</td><td>0</td><td>&quot;Mitchell Starc&quot;</td><td>&quot;Stephen Cook&quot;</td><td>&quot;Dean Elgar&quot;</td><td>&quot;Stephen Cook&quot;</td><td>0.4</td><td>1</td><td>4</td><td>1</td><td>0</td><td>0</td><td>0</td><td>0</td><td>0</td><td>&quot;caught&quot;</td><td>&quot;Perth&quot;</td><td>2016-11-03 00:00:00</td><td>2016-11-07 00:00:00</td><td>&quot;Test&quot;</td><td>&quot;male&quot;</td><td>&quot;Aleem Dar&quot;</td><td>&quot;NJ Llong&quot;</td><td>&quot;runs&quot;</td><td>177.0</td><td>&quot;South Africa&quot;</td><td>&quot;K Rabada&quot;</td><td>&quot;Australia&quot;</td><td>&quot;South Africa&quot;</td><td>&quot;bat&quot;</td><td>&quot;South Africa&quot;</td><td>&quot;Western Australia Cricket Asso…</td></tr><tr><td>5</td><td>&quot;1000851&quot;</td><td>&quot;1st innings&quot;</td><td>&quot;South Africa&quot;</td><td>&quot;Australia&quot;</td><td>0</td><td>&quot;Mitchell Starc&quot;</td><td>&quot;Hashim Amla&quot;</td><td>&quot;Dean Elgar&quot;</td><td>null</td><td>0.5</td><td>1</td><td>5</td><td>0</td><td>0</td><td>0</td><td>0</td><td>0</td><td>0</td><td>null</td><td>&quot;Perth&quot;</td><td>2016-11-03 00:00:00</td><td>2016-11-07 00:00:00</td><td>&quot;Test&quot;</td><td>&quot;male&quot;</td><td>&quot;Aleem Dar&quot;</td><td>&quot;NJ Llong&quot;</td><td>&quot;runs&quot;</td><td>177.0</td><td>&quot;South Africa&quot;</td><td>&quot;K Rabada&quot;</td><td>&quot;Australia&quot;</td><td>&quot;South Africa&quot;</td><td>&quot;bat&quot;</td><td>&quot;South Africa&quot;</td><td>&quot;Western Australia Cricket Asso…</td></tr><tr><td>&hellip;</td><td>&hellip;</td><td>&hellip;</td><td>&hellip;</td><td>&hellip;</td><td>&hellip;</td><td>&hellip;</td><td>&hellip;</td><td>&hellip;</td><td>&hellip;</td><td>&hellip;</td><td>&hellip;</td><td>&hellip;</td><td>&hellip;</td><td>&hellip;</td><td>&hellip;</td><td>&hellip;</td><td>&hellip;</td><td>&hellip;</td><td>&hellip;</td><td>&hellip;</td><td>&hellip;</td><td>&hellip;</td><td>&hellip;</td><td>&hellip;</td><td>&hellip;</td><td>&hellip;</td><td>&hellip;</td><td>&hellip;</td><td>&hellip;</td><td>&hellip;</td><td>&hellip;</td><td>&hellip;</td><td>&hellip;</td><td>&hellip;</td><td>&hellip;</td></tr><tr><td>9448325</td><td>&quot;wi_212064&quot;</td><td>&quot;2nd innings&quot;</td><td>&quot;Barbados&quot;</td><td>&quot;Jamaica&quot;</td><td>0</td><td>&quot;Jodi-Ann Morgan&quot;</td><td>&quot;Kycia Knight&quot;</td><td>&quot;Aaliyah Alleyne&quot;</td><td>null</td><td>22.7</td><td>23</td><td>7</td><td>0</td><td>4</td><td>0</td><td>4</td><td>0</td><td>1</td><td>null</td><td>null</td><td>2022-06-25 00:00:00</td><td>2022-06-25 00:00:00</td><td>&quot;ODM&quot;</td><td>&quot;female&quot;</td><td>&quot;S Crawford&quot;</td><td>&quot;JM Williams&quot;</td><td>&quot;wickets&quot;</td><td>8.0</td><td>&quot;Barbados&quot;</td><td>null</td><td>&quot;Barbados&quot;</td><td>&quot;Jamaica&quot;</td><td>&quot;bat&quot;</td><td>&quot;Jamaica&quot;</td><td>&quot;Guyana National Stadium, Provi…</td></tr><tr><td>9448326</td><td>&quot;wi_212064&quot;</td><td>&quot;2nd innings&quot;</td><td>&quot;Barbados&quot;</td><td>&quot;Jamaica&quot;</td><td>0</td><td>&quot;Vanessa Watts&quot;</td><td>&quot;Aaliyah Alleyne&quot;</td><td>&quot;Kycia Knight&quot;</td><td>null</td><td>23.1</td><td>24</td><td>1</td><td>0</td><td>0</td><td>0</td><td>0</td><td>0</td><td>0</td><td>null</td><td>null</td><td>2022-06-25 00:00:00</td><td>2022-06-25 00:00:00</td><td>&quot;ODM&quot;</td><td>&quot;female&quot;</td><td>&quot;S Crawford&quot;</td><td>&quot;JM Williams&quot;</td><td>&quot;wickets&quot;</td><td>8.0</td><td>&quot;Barbados&quot;</td><td>null</td><td>&quot;Barbados&quot;</td><td>&quot;Jamaica&quot;</td><td>&quot;bat&quot;</td><td>&quot;Jamaica&quot;</td><td>&quot;Guyana National Stadium, Provi…</td></tr><tr><td>9448327</td><td>&quot;wi_212064&quot;</td><td>&quot;2nd innings&quot;</td><td>&quot;Barbados&quot;</td><td>&quot;Jamaica&quot;</td><td>0</td><td>&quot;Vanessa Watts&quot;</td><td>&quot;Aaliyah Alleyne&quot;</td><td>&quot;Kycia Knight&quot;</td><td>null</td><td>23.2</td><td>24</td><td>2</td><td>0</td><td>1</td><td>0</td><td>1</td><td>0</td><td>0</td><td>null</td><td>null</td><td>2022-06-25 00:00:00</td><td>2022-06-25 00:00:00</td><td>&quot;ODM&quot;</td><td>&quot;female&quot;</td><td>&quot;S Crawford&quot;</td><td>&quot;JM Williams&quot;</td><td>&quot;wickets&quot;</td><td>8.0</td><td>&quot;Barbados&quot;</td><td>null</td><td>&quot;Barbados&quot;</td><td>&quot;Jamaica&quot;</td><td>&quot;bat&quot;</td><td>&quot;Jamaica&quot;</td><td>&quot;Guyana National Stadium, Provi…</td></tr><tr><td>9448328</td><td>&quot;wi_212064&quot;</td><td>&quot;2nd innings&quot;</td><td>&quot;Barbados&quot;</td><td>&quot;Jamaica&quot;</td><td>0</td><td>&quot;Vanessa Watts&quot;</td><td>&quot;Kycia Knight&quot;</td><td>&quot;Aaliyah Alleyne&quot;</td><td>null</td><td>23.3</td><td>24</td><td>3</td><td>0</td><td>1</td><td>0</td><td>1</td><td>0</td><td>0</td><td>null</td><td>null</td><td>2022-06-25 00:00:00</td><td>2022-06-25 00:00:00</td><td>&quot;ODM&quot;</td><td>&quot;female&quot;</td><td>&quot;S Crawford&quot;</td><td>&quot;JM Williams&quot;</td><td>&quot;wickets&quot;</td><td>8.0</td><td>&quot;Barbados&quot;</td><td>null</td><td>&quot;Barbados&quot;</td><td>&quot;Jamaica&quot;</td><td>&quot;bat&quot;</td><td>&quot;Jamaica&quot;</td><td>&quot;Guyana National Stadium, Provi…</td></tr><tr><td>9448329</td><td>&quot;wi_212064&quot;</td><td>&quot;2nd innings&quot;</td><td>&quot;Barbados&quot;</td><td>&quot;Jamaica&quot;</td><td>0</td><td>&quot;Vanessa Watts&quot;</td><td>&quot;Aaliyah Alleyne&quot;</td><td>&quot;Kycia Knight&quot;</td><td>null</td><td>23.4</td><td>24</td><td>4</td><td>0</td><td>1</td><td>0</td><td>1</td><td>0</td><td>0</td><td>null</td><td>null</td><td>2022-06-25 00:00:00</td><td>2022-06-25 00:00:00</td><td>&quot;ODM&quot;</td><td>&quot;female&quot;</td><td>&quot;S Crawford&quot;</td><td>&quot;JM Williams&quot;</td><td>&quot;wickets&quot;</td><td>8.0</td><td>&quot;Barbados&quot;</td><td>null</td><td>&quot;Barbados&quot;</td><td>&quot;Jamaica&quot;</td><td>&quot;bat&quot;</td><td>&quot;Jamaica&quot;</td><td>&quot;Guyana National Stadium, Provi…</td></tr></tbody></table></div>"
      ],
      "text/plain": [
       "\n",
       "shape: \u001b[1m(\u001b[0m9_448_329, \u001b[1;36m36\u001b[0m\u001b[1m)\u001b[0m\n",
       "┌───────────┬───────────┬───────────┬───────────┬───┬───────────┬───────────┬───────────┬──────────┐\n",
       "│ delivery_ ┆ match_id  ┆ innings   ┆ batting_t ┆ … ┆ team2     ┆ toss_deci ┆ toss_winn ┆ venue    │\n",
       "│ id        ┆ ---       ┆ ---       ┆ eam       ┆   ┆ ---       ┆ sion      ┆ er        ┆ ---      │\n",
       "│ ---       ┆ str       ┆ str       ┆ ---       ┆   ┆ str       ┆ ---       ┆ ---       ┆ str      │\n",
       "│ u32       ┆           ┆           ┆ str       ┆   ┆           ┆ str       ┆ str       ┆          │\n",
       "╞═══════════╪═══════════╪═══════════╪═══════════╪═══╪═══════════╪═══════════╪═══════════╪══════════╡\n",
       "│ \u001b[1;36m1\u001b[0m         ┆ \u001b[1;36m1000851\u001b[0m   ┆ 1st       ┆ South     ┆ … ┆ South     ┆ bat       ┆ South     ┆ Western  │\n",
       "│           ┆           ┆ innings   ┆ Africa    ┆   ┆ Africa    ┆           ┆ Africa    ┆ Australi │\n",
       "│           ┆           ┆           ┆           ┆   ┆           ┆           ┆           ┆ a        │\n",
       "│           ┆           ┆           ┆           ┆   ┆           ┆           ┆           ┆ Cricket  │\n",
       "│           ┆           ┆           ┆           ┆   ┆           ┆           ┆           ┆ Asso…    │\n",
       "│ \u001b[1;36m2\u001b[0m         ┆ \u001b[1;36m1000851\u001b[0m   ┆ 1st       ┆ South     ┆ … ┆ South     ┆ bat       ┆ South     ┆ Western  │\n",
       "│           ┆           ┆ innings   ┆ Africa    ┆   ┆ Africa    ┆           ┆ Africa    ┆ Australi │\n",
       "│           ┆           ┆           ┆           ┆   ┆           ┆           ┆           ┆ a        │\n",
       "│           ┆           ┆           ┆           ┆   ┆           ┆           ┆           ┆ Cricket  │\n",
       "│           ┆           ┆           ┆           ┆   ┆           ┆           ┆           ┆ Asso…    │\n",
       "│ \u001b[1;36m3\u001b[0m         ┆ \u001b[1;36m1000851\u001b[0m   ┆ 1st       ┆ South     ┆ … ┆ South     ┆ bat       ┆ South     ┆ Western  │\n",
       "│           ┆           ┆ innings   ┆ Africa    ┆   ┆ Africa    ┆           ┆ Africa    ┆ Australi │\n",
       "│           ┆           ┆           ┆           ┆   ┆           ┆           ┆           ┆ a        │\n",
       "│           ┆           ┆           ┆           ┆   ┆           ┆           ┆           ┆ Cricket  │\n",
       "│           ┆           ┆           ┆           ┆   ┆           ┆           ┆           ┆ Asso…    │\n",
       "│ \u001b[1;36m4\u001b[0m         ┆ \u001b[1;36m1000851\u001b[0m   ┆ 1st       ┆ South     ┆ … ┆ South     ┆ bat       ┆ South     ┆ Western  │\n",
       "│           ┆           ┆ innings   ┆ Africa    ┆   ┆ Africa    ┆           ┆ Africa    ┆ Australi │\n",
       "│           ┆           ┆           ┆           ┆   ┆           ┆           ┆           ┆ a        │\n",
       "│           ┆           ┆           ┆           ┆   ┆           ┆           ┆           ┆ Cricket  │\n",
       "│           ┆           ┆           ┆           ┆   ┆           ┆           ┆           ┆ Asso…    │\n",
       "│ \u001b[1;36m5\u001b[0m         ┆ \u001b[1;36m1000851\u001b[0m   ┆ 1st       ┆ South     ┆ … ┆ South     ┆ bat       ┆ South     ┆ Western  │\n",
       "│           ┆           ┆ innings   ┆ Africa    ┆   ┆ Africa    ┆           ┆ Africa    ┆ Australi │\n",
       "│           ┆           ┆           ┆           ┆   ┆           ┆           ┆           ┆ a        │\n",
       "│           ┆           ┆           ┆           ┆   ┆           ┆           ┆           ┆ Cricket  │\n",
       "│           ┆           ┆           ┆           ┆   ┆           ┆           ┆           ┆ Asso…    │\n",
       "│ …         ┆ …         ┆ …         ┆ …         ┆ … ┆ …         ┆ …         ┆ …         ┆ …        │\n",
       "│ \u001b[1;36m9448325\u001b[0m   ┆ wi_212064 ┆ 2nd       ┆ Barbados  ┆ … ┆ Jamaica   ┆ bat       ┆ Jamaica   ┆ Guyana   │\n",
       "│           ┆           ┆ innings   ┆           ┆   ┆           ┆           ┆           ┆ National │\n",
       "│           ┆           ┆           ┆           ┆   ┆           ┆           ┆           ┆ Stadium, │\n",
       "│           ┆           ┆           ┆           ┆   ┆           ┆           ┆           ┆ Provi…   │\n",
       "│ \u001b[1;36m9448326\u001b[0m   ┆ wi_212064 ┆ 2nd       ┆ Barbados  ┆ … ┆ Jamaica   ┆ bat       ┆ Jamaica   ┆ Guyana   │\n",
       "│           ┆           ┆ innings   ┆           ┆   ┆           ┆           ┆           ┆ National │\n",
       "│           ┆           ┆           ┆           ┆   ┆           ┆           ┆           ┆ Stadium, │\n",
       "│           ┆           ┆           ┆           ┆   ┆           ┆           ┆           ┆ Provi…   │\n",
       "│ \u001b[1;36m9448327\u001b[0m   ┆ wi_212064 ┆ 2nd       ┆ Barbados  ┆ … ┆ Jamaica   ┆ bat       ┆ Jamaica   ┆ Guyana   │\n",
       "│           ┆           ┆ innings   ┆           ┆   ┆           ┆           ┆           ┆ National │\n",
       "│           ┆           ┆           ┆           ┆   ┆           ┆           ┆           ┆ Stadium, │\n",
       "│           ┆           ┆           ┆           ┆   ┆           ┆           ┆           ┆ Provi…   │\n",
       "│ \u001b[1;36m9448328\u001b[0m   ┆ wi_212064 ┆ 2nd       ┆ Barbados  ┆ … ┆ Jamaica   ┆ bat       ┆ Jamaica   ┆ Guyana   │\n",
       "│           ┆           ┆ innings   ┆           ┆   ┆           ┆           ┆           ┆ National │\n",
       "│           ┆           ┆           ┆           ┆   ┆           ┆           ┆           ┆ Stadium, │\n",
       "│           ┆           ┆           ┆           ┆   ┆           ┆           ┆           ┆ Provi…   │\n",
       "│ \u001b[1;36m9448329\u001b[0m   ┆ wi_212064 ┆ 2nd       ┆ Barbados  ┆ … ┆ Jamaica   ┆ bat       ┆ Jamaica   ┆ Guyana   │\n",
       "│           ┆           ┆ innings   ┆           ┆   ┆           ┆           ┆           ┆ National │\n",
       "│           ┆           ┆           ┆           ┆   ┆           ┆           ┆           ┆ Stadium, │\n",
       "│           ┆           ┆           ┆           ┆   ┆           ┆           ┆           ┆ Provi…   │\n",
       "└───────────┴───────────┴───────────┴───────────┴───┴───────────┴───────────┴───────────┴──────────┘"
      ]
     },
     "execution_count": 7,
     "metadata": {},
     "output_type": "execute_result"
    }
   ],
   "source": [
    "(\n",
    "    df_cric\n",
    "    .collect()\n",
    ")"
   ]
  },
  {
   "cell_type": "code",
   "execution_count": null,
   "metadata": {},
   "outputs": [],
   "source": []
  },
  {
   "cell_type": "code",
   "execution_count": null,
   "metadata": {},
   "outputs": [],
   "source": []
  },
  {
   "cell_type": "code",
   "execution_count": null,
   "metadata": {},
   "outputs": [],
   "source": []
  }
 ],
 "metadata": {
  "kernelspec": {
   "display_name": "cricket_kedro",
   "language": "python",
   "name": "python3"
  },
  "language_info": {
   "codemirror_mode": {
    "name": "ipython",
    "version": 3
   },
   "file_extension": ".py",
   "mimetype": "text/x-python",
   "name": "python",
   "nbconvert_exporter": "python",
   "pygments_lexer": "ipython3",
   "version": "3.12.7"
  }
 },
 "nbformat": 4,
 "nbformat_minor": 2
}
