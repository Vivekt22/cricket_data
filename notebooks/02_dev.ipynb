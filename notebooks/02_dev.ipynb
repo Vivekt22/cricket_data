{
 "cells": [
  {
   "cell_type": "code",
   "execution_count": 2,
   "metadata": {
    "dotnet_interactive": {
     "language": "csharp"
    },
    "polyglot_notebook": {
     "kernelName": "csharp"
    }
   },
   "outputs": [],
   "source": [
    "import polars as pl\n",
    "from polars import col, lit\n",
    "import polars.selectors as cs\n",
    "import duckdb as db\n",
    "import pandas as pd\n",
    "import matplotlib.pyplot as plt\n",
    "import seaborn as sns"
   ]
  },
  {
   "cell_type": "code",
   "execution_count": 3,
   "metadata": {},
   "outputs": [],
   "source": [
    "def sql(query, show=True):\n",
    "    result = db.sql(query)\n",
    "    return result"
   ]
  },
  {
   "cell_type": "code",
   "execution_count": 4,
   "metadata": {},
   "outputs": [
    {
     "data": {
      "text/plain": [
       "┌──────────┬────────────────────┬───────────┐\n",
       "│ match_id │    person_name     │ person_id │\n",
       "│ varchar  │      varchar       │  varchar  │\n",
       "├──────────┼────────────────────┼───────────┤\n",
       "│ 1000851  │ AC Voges           │ 864c199e  │\n",
       "│ 1000851  │ AJ Pycroft         │ 685d3f80  │\n",
       "│ 1000851  │ Aleem Dar          │ f02778d1  │\n",
       "│ 1000851  │ D Elgar            │ 33085ffb  │\n",
       "│ 1000851  │ DA Warner          │ dcce6f09  │\n",
       "│ 1000851  │ DW Steyn           │ 8fd1a8f5  │\n",
       "│ 1000851  │ F du Plessis       │ 3355b542  │\n",
       "│ 1000851  │ HM Amla            │ e798611a  │\n",
       "│ 1000851  │ JP Duminy          │ 2e8994e7  │\n",
       "│ 1000851  │ JR Hazlewood       │ 03806cf8  │\n",
       "│    ·     │      ·             │    ·      │\n",
       "│    ·     │      ·             │    ·      │\n",
       "│    ·     │      ·             │    ·      │\n",
       "│ 1063066  │ Arafat Sunny       │ 1f7adc8a  │\n",
       "│ 1063066  │ Imrul Kayes        │ 5fbe14fc  │\n",
       "│ 1063066  │ LA Dawson          │ 4a461c24  │\n",
       "│ 1063066  │ Liton Das          │ 0404d43c  │\n",
       "│ 1063066  │ MN Samuels         │ f846de6a  │\n",
       "│ 1063066  │ Manjurul Islam     │ 0db7fb49  │\n",
       "│ 1063066  │ Mashrafe Mortaza   │ e186f49c  │\n",
       "│ 1063066  │ Masudur Rahman     │ 9581ac6b  │\n",
       "│ 1063066  │ Mohammad Mithun    │ 77191792  │\n",
       "│ 1063066  │ Mohammad Saifuddin │ b3a28446  │\n",
       "├──────────┴────────────────────┴───────────┤\n",
       "│ ? rows (>9999 rows, 20 shown)   3 columns │\n",
       "└───────────────────────────────────────────┘"
      ]
     },
     "execution_count": 4,
     "metadata": {},
     "output_type": "execute_result"
    }
   ],
   "source": [
    "sql(\n",
    "    \"\"\"\n",
    "    select\n",
    "        *\n",
    "\n",
    "    from read_parquet('../data/03_preprocessed/registry.parquet')\n",
    "    \"\"\"\n",
    ").to_view(\"registry\")"
   ]
  },
  {
   "cell_type": "code",
   "execution_count": 5,
   "metadata": {},
   "outputs": [
    {
     "data": {
      "text/plain": [
       "┌─────────────┬──────────┬────────────┬─────────────┬──────────────┬──────────────┬──────────┬────────────────┬───────────────┬───────────────┬──────────────┬──────────┬───────┬───────┬─────────┬─────────────┬────────────┬────────────┬───────┬───────┬─────────────┬───────────┬───────────┬────────────────┬───────────────┬─────────┬──────────────────┬────────────────┬────────────┬─────────┬────────────────┬──────────┬─────────┬────────────┬──────────────┬─────────────────┬───────────┬──────────────┬───────────────┬──────────────┬──────────────────────────────────────────────┬───────────────┐\n",
       "│ delivery_id │ match_id │ innings_id │   innings   │ batting_team │ bowling_team │ declared │     bowler     │    batter     │  non_striker  │  player_out  │ delivery │ over  │ ball  │ wickets │ batter_runs │ extra_runs │ total_runs │  six  │ four  │ wicket_type │ batter_id │ bowler_id │ non_striker_id │ player_out_id │  city   │ match_start_date │ match_end_date │ match_type │ gender  │    umpire_1    │ umpire_2 │ win_by  │ win_margin │    winner    │ player_of_match │   team1   │    team2     │ toss_decision │ toss_winner  │                    venue                     │    league     │\n",
       "│   uint32    │ varchar  │  varchar   │   varchar   │   varchar    │   varchar    │   int8   │    varchar     │    varchar    │    varchar    │   varchar    │  double  │ int64 │ int64 │  int32  │    int64    │   int64    │   int64    │ int32 │ int32 │   varchar   │  varchar  │  varchar  │    varchar     │    varchar    │ varchar │       date       │      date      │  varchar   │ varchar │    varchar     │ varchar  │ varchar │   double   │   varchar    │     varchar     │  varchar  │   varchar    │    varchar    │   varchar    │                   varchar                    │    varchar    │\n",
       "├─────────────┼──────────┼────────────┼─────────────┼──────────────┼──────────────┼──────────┼────────────────┼───────────────┼───────────────┼──────────────┼──────────┼───────┼───────┼─────────┼─────────────┼────────────┼────────────┼───────┼───────┼─────────────┼───────────┼───────────┼────────────────┼───────────────┼─────────┼──────────────────┼────────────────┼────────────┼─────────┼────────────────┼──────────┼─────────┼────────────┼──────────────┼─────────────────┼───────────┼──────────────┼───────────────┼──────────────┼──────────────────────────────────────────────┼───────────────┤\n",
       "│           1 │ 1000851  │ 1000851_1  │ 1st innings │ South Africa │ Australia    │        0 │ Mitchell Starc │ Stephen Cook  │ Dean Elgar    │ NULL         │      0.1 │     1 │     1 │       0 │           0 │          0 │          0 │     0 │     0 │ NULL        │ 13bee186  │ 3fb19989  │ 33085ffb       │ NULL          │ Perth   │ 2016-11-03       │ 2016-11-07     │ Test       │ male    │ Aleem Dar      │ NJ Llong │ runs    │      177.0 │ South Africa │ K Rabada        │ Australia │ South Africa │ bat           │ South Africa │ Western Australia Cricket Association Ground │ International │\n",
       "│           2 │ 1000851  │ 1000851_1  │ 1st innings │ South Africa │ Australia    │        0 │ Mitchell Starc │ Stephen Cook  │ Dean Elgar    │ NULL         │      0.2 │     1 │     2 │       0 │           0 │          0 │          0 │     0 │     0 │ NULL        │ 13bee186  │ 3fb19989  │ 33085ffb       │ NULL          │ Perth   │ 2016-11-03       │ 2016-11-07     │ Test       │ male    │ Aleem Dar      │ NJ Llong │ runs    │      177.0 │ South Africa │ K Rabada        │ Australia │ South Africa │ bat           │ South Africa │ Western Australia Cricket Association Ground │ International │\n",
       "│           3 │ 1000851  │ 1000851_1  │ 1st innings │ South Africa │ Australia    │        0 │ Mitchell Starc │ Stephen Cook  │ Dean Elgar    │ NULL         │      0.3 │     1 │     3 │       0 │           0 │          0 │          0 │     0 │     0 │ NULL        │ 13bee186  │ 3fb19989  │ 33085ffb       │ NULL          │ Perth   │ 2016-11-03       │ 2016-11-07     │ Test       │ male    │ Aleem Dar      │ NJ Llong │ runs    │      177.0 │ South Africa │ K Rabada        │ Australia │ South Africa │ bat           │ South Africa │ Western Australia Cricket Association Ground │ International │\n",
       "│           4 │ 1000851  │ 1000851_1  │ 1st innings │ South Africa │ Australia    │        0 │ Mitchell Starc │ Stephen Cook  │ Dean Elgar    │ Stephen Cook │      0.4 │     1 │     4 │       1 │           0 │          0 │          0 │     0 │     0 │ caught      │ 13bee186  │ 3fb19989  │ 33085ffb       │ 13bee186      │ Perth   │ 2016-11-03       │ 2016-11-07     │ Test       │ male    │ Aleem Dar      │ NJ Llong │ runs    │      177.0 │ South Africa │ K Rabada        │ Australia │ South Africa │ bat           │ South Africa │ Western Australia Cricket Association Ground │ International │\n",
       "│           5 │ 1000851  │ 1000851_1  │ 1st innings │ South Africa │ Australia    │        0 │ Mitchell Starc │ Hashim Amla   │ Dean Elgar    │ NULL         │      0.5 │     1 │     5 │       0 │           0 │          0 │          0 │     0 │     0 │ NULL        │ e798611a  │ 3fb19989  │ 33085ffb       │ NULL          │ Perth   │ 2016-11-03       │ 2016-11-07     │ Test       │ male    │ Aleem Dar      │ NJ Llong │ runs    │      177.0 │ South Africa │ K Rabada        │ Australia │ South Africa │ bat           │ South Africa │ Western Australia Cricket Association Ground │ International │\n",
       "│           6 │ 1000851  │ 1000851_1  │ 1st innings │ South Africa │ Australia    │        0 │ Mitchell Starc │ Hashim Amla   │ Dean Elgar    │ NULL         │      0.6 │     1 │     6 │       0 │           0 │          0 │          0 │     0 │     0 │ NULL        │ e798611a  │ 3fb19989  │ 33085ffb       │ NULL          │ Perth   │ 2016-11-03       │ 2016-11-07     │ Test       │ male    │ Aleem Dar      │ NJ Llong │ runs    │      177.0 │ South Africa │ K Rabada        │ Australia │ South Africa │ bat           │ South Africa │ Western Australia Cricket Association Ground │ International │\n",
       "│           7 │ 1000851  │ 1000851_1  │ 1st innings │ South Africa │ Australia    │        0 │ Josh Hazlewood │ Dean Elgar    │ Hashim Amla   │ NULL         │      1.1 │     2 │     1 │       0 │           0 │          0 │          0 │     0 │     0 │ NULL        │ 33085ffb  │ 03806cf8  │ e798611a       │ NULL          │ Perth   │ 2016-11-03       │ 2016-11-07     │ Test       │ male    │ Aleem Dar      │ NJ Llong │ runs    │      177.0 │ South Africa │ K Rabada        │ Australia │ South Africa │ bat           │ South Africa │ Western Australia Cricket Association Ground │ International │\n",
       "│           8 │ 1000851  │ 1000851_1  │ 1st innings │ South Africa │ Australia    │        0 │ Josh Hazlewood │ Dean Elgar    │ Hashim Amla   │ NULL         │      1.2 │     2 │     2 │       0 │           0 │          0 │          0 │     0 │     0 │ NULL        │ 33085ffb  │ 03806cf8  │ e798611a       │ NULL          │ Perth   │ 2016-11-03       │ 2016-11-07     │ Test       │ male    │ Aleem Dar      │ NJ Llong │ runs    │      177.0 │ South Africa │ K Rabada        │ Australia │ South Africa │ bat           │ South Africa │ Western Australia Cricket Association Ground │ International │\n",
       "│           9 │ 1000851  │ 1000851_1  │ 1st innings │ South Africa │ Australia    │        0 │ Josh Hazlewood │ Dean Elgar    │ Hashim Amla   │ NULL         │      1.3 │     2 │     3 │       0 │           0 │          0 │          0 │     0 │     0 │ NULL        │ 33085ffb  │ 03806cf8  │ e798611a       │ NULL          │ Perth   │ 2016-11-03       │ 2016-11-07     │ Test       │ male    │ Aleem Dar      │ NJ Llong │ runs    │      177.0 │ South Africa │ K Rabada        │ Australia │ South Africa │ bat           │ South Africa │ Western Australia Cricket Association Ground │ International │\n",
       "│          10 │ 1000851  │ 1000851_1  │ 1st innings │ South Africa │ Australia    │        0 │ Josh Hazlewood │ Dean Elgar    │ Hashim Amla   │ NULL         │      1.4 │     2 │     4 │       0 │           1 │          0 │          1 │     0 │     0 │ NULL        │ 33085ffb  │ 03806cf8  │ e798611a       │ NULL          │ Perth   │ 2016-11-03       │ 2016-11-07     │ Test       │ male    │ Aleem Dar      │ NJ Llong │ runs    │      177.0 │ South Africa │ K Rabada        │ Australia │ South Africa │ bat           │ South Africa │ Western Australia Cricket Association Ground │ International │\n",
       "│           · │    ·     │     ·      │      ·      │     ·        │    ·         │        · │     ·          │     ·         │      ·        │  ·           │       ·  │     · │     · │       · │           · │          · │          · │     · │     · │  ·          │    ·      │    ·      │    ·           │  ·            │  ·      │     ·            │     ·          │  ·         │  ·      │     ·          │   ·      │  ·      │        ·   │     ·        │    ·            │     ·     │    ·         │  ·            │     ·        │           ·                                  │       ·       │\n",
       "│           · │    ·     │     ·      │      ·      │     ·        │    ·         │        · │     ·          │     ·         │      ·        │  ·           │       ·  │     · │     · │       · │           · │          · │          · │     · │     · │  ·          │    ·      │    ·      │    ·           │  ·            │  ·      │     ·            │     ·          │  ·         │  ·      │     ·          │   ·      │  ·      │        ·   │     ·        │    ·            │     ·     │    ·         │  ·            │     ·        │           ·                                  │       ·       │\n",
       "│           · │    ·     │     ·      │      ·      │     ·        │    ·         │        · │     ·          │     ·         │      ·        │  ·           │       ·  │     · │     · │       · │           · │          · │          · │     · │     · │  ·          │    ·      │    ·      │    ·           │  ·            │  ·      │     ·            │     ·          │  ·         │  ·      │     ·          │   ·      │  ·      │        ·   │     ·        │    ·            │     ·     │    ·         │  ·            │     ·        │           ·                                  │       ·       │\n",
       "│        9991 │ 1000885  │ 1000885_1  │ 1st innings │ Australia    │ Pakistan     │        0 │ Yasir Shah     │ Matt Renshaw  │ Usman Khawaja │ NULL         │     33.1 │    34 │     1 │       0 │           0 │          0 │          0 │     0 │     0 │ NULL        │ 218d4d78  │ f2800ef3  │ 331ea488       │ NULL          │ NULL    │ 2017-01-03       │ 2017-01-07     │ Test       │ male    │ RK Illingworth │ S Ravi   │ runs    │      220.0 │ Australia    │ DA Warner       │ Australia │ Pakistan     │ bat           │ Australia    │ Sydney Cricket Ground                        │ International │\n",
       "│        9992 │ 1000885  │ 1000885_1  │ 1st innings │ Australia    │ Pakistan     │        0 │ Yasir Shah     │ Matt Renshaw  │ Usman Khawaja │ NULL         │     33.2 │    34 │     2 │       0 │           2 │          0 │          2 │     0 │     0 │ NULL        │ 218d4d78  │ f2800ef3  │ 331ea488       │ NULL          │ NULL    │ 2017-01-03       │ 2017-01-07     │ Test       │ male    │ RK Illingworth │ S Ravi   │ runs    │      220.0 │ Australia    │ DA Warner       │ Australia │ Pakistan     │ bat           │ Australia    │ Sydney Cricket Ground                        │ International │\n",
       "│        9993 │ 1000885  │ 1000885_1  │ 1st innings │ Australia    │ Pakistan     │        0 │ Yasir Shah     │ Matt Renshaw  │ Usman Khawaja │ NULL         │     33.3 │    34 │     3 │       0 │           0 │          0 │          0 │     0 │     0 │ NULL        │ 218d4d78  │ f2800ef3  │ 331ea488       │ NULL          │ NULL    │ 2017-01-03       │ 2017-01-07     │ Test       │ male    │ RK Illingworth │ S Ravi   │ runs    │      220.0 │ Australia    │ DA Warner       │ Australia │ Pakistan     │ bat           │ Australia    │ Sydney Cricket Ground                        │ International │\n",
       "│        9994 │ 1000885  │ 1000885_1  │ 1st innings │ Australia    │ Pakistan     │        0 │ Yasir Shah     │ Matt Renshaw  │ Usman Khawaja │ NULL         │     33.4 │    34 │     4 │       0 │           3 │          0 │          3 │     0 │     0 │ NULL        │ 218d4d78  │ f2800ef3  │ 331ea488       │ NULL          │ NULL    │ 2017-01-03       │ 2017-01-07     │ Test       │ male    │ RK Illingworth │ S Ravi   │ runs    │      220.0 │ Australia    │ DA Warner       │ Australia │ Pakistan     │ bat           │ Australia    │ Sydney Cricket Ground                        │ International │\n",
       "│        9995 │ 1000885  │ 1000885_1  │ 1st innings │ Australia    │ Pakistan     │        0 │ Yasir Shah     │ Usman Khawaja │ Matt Renshaw  │ NULL         │     33.5 │    34 │     5 │       0 │           0 │          0 │          0 │     0 │     0 │ NULL        │ 331ea488  │ f2800ef3  │ 218d4d78       │ NULL          │ NULL    │ 2017-01-03       │ 2017-01-07     │ Test       │ male    │ RK Illingworth │ S Ravi   │ runs    │      220.0 │ Australia    │ DA Warner       │ Australia │ Pakistan     │ bat           │ Australia    │ Sydney Cricket Ground                        │ International │\n",
       "│        9996 │ 1000885  │ 1000885_1  │ 1st innings │ Australia    │ Pakistan     │        0 │ Yasir Shah     │ Usman Khawaja │ Matt Renshaw  │ NULL         │     33.6 │    34 │     6 │       0 │           0 │          0 │          0 │     0 │     0 │ NULL        │ 331ea488  │ f2800ef3  │ 218d4d78       │ NULL          │ NULL    │ 2017-01-03       │ 2017-01-07     │ Test       │ male    │ RK Illingworth │ S Ravi   │ runs    │      220.0 │ Australia    │ DA Warner       │ Australia │ Pakistan     │ bat           │ Australia    │ Sydney Cricket Ground                        │ International │\n",
       "│        9997 │ 1000885  │ 1000885_1  │ 1st innings │ Australia    │ Pakistan     │        0 │ Wahab Riaz     │ Matt Renshaw  │ Usman Khawaja │ NULL         │     34.1 │    35 │     1 │       0 │           2 │          1 │          3 │     0 │     0 │ NULL        │ 218d4d78  │ b3118300  │ 331ea488       │ NULL          │ NULL    │ 2017-01-03       │ 2017-01-07     │ Test       │ male    │ RK Illingworth │ S Ravi   │ runs    │      220.0 │ Australia    │ DA Warner       │ Australia │ Pakistan     │ bat           │ Australia    │ Sydney Cricket Ground                        │ International │\n",
       "│        9998 │ 1000885  │ 1000885_1  │ 1st innings │ Australia    │ Pakistan     │        0 │ Wahab Riaz     │ Matt Renshaw  │ Usman Khawaja │ NULL         │     34.2 │    35 │     2 │       0 │           0 │          0 │          0 │     0 │     0 │ NULL        │ 218d4d78  │ b3118300  │ 331ea488       │ NULL          │ NULL    │ 2017-01-03       │ 2017-01-07     │ Test       │ male    │ RK Illingworth │ S Ravi   │ runs    │      220.0 │ Australia    │ DA Warner       │ Australia │ Pakistan     │ bat           │ Australia    │ Sydney Cricket Ground                        │ International │\n",
       "│        9999 │ 1000885  │ 1000885_1  │ 1st innings │ Australia    │ Pakistan     │        0 │ Wahab Riaz     │ Matt Renshaw  │ Usman Khawaja │ NULL         │     34.3 │    35 │     3 │       0 │           0 │          0 │          0 │     0 │     0 │ NULL        │ 218d4d78  │ b3118300  │ 331ea488       │ NULL          │ NULL    │ 2017-01-03       │ 2017-01-07     │ Test       │ male    │ RK Illingworth │ S Ravi   │ runs    │      220.0 │ Australia    │ DA Warner       │ Australia │ Pakistan     │ bat           │ Australia    │ Sydney Cricket Ground                        │ International │\n",
       "│       10000 │ 1000885  │ 1000885_1  │ 1st innings │ Australia    │ Pakistan     │        0 │ Wahab Riaz     │ Matt Renshaw  │ Usman Khawaja │ NULL         │     34.4 │    35 │     4 │       0 │           0 │          0 │          0 │     0 │     0 │ NULL        │ 218d4d78  │ b3118300  │ 331ea488       │ NULL          │ NULL    │ 2017-01-03       │ 2017-01-07     │ Test       │ male    │ RK Illingworth │ S Ravi   │ runs    │      220.0 │ Australia    │ DA Warner       │ Australia │ Pakistan     │ bat           │ Australia    │ Sydney Cricket Ground                        │ International │\n",
       "├─────────────┴──────────┴────────────┴─────────────┴──────────────┴──────────────┴──────────┴────────────────┴───────────────┴───────────────┴──────────────┴──────────┴───────┴───────┴─────────┴─────────────┴────────────┴────────────┴───────┴───────┴─────────────┴───────────┴───────────┴────────────────┴───────────────┴─────────┴──────────────────┴────────────────┴────────────┴─────────┴────────────────┴──────────┴─────────┴────────────┴──────────────┴─────────────────┴───────────┴──────────────┴───────────────┴──────────────┴──────────────────────────────────────────────┴───────────────┤\n",
       "│ ? rows (>9999 rows, 20 shown)                                                                                                                                                                                                                                                                                                                                                                                                                                                                                                                                                                         42 columns │\n",
       "└──────────────────────────────────────────────────────────────────────────────────────────────────────────────────────────────────────────────────────────────────────────────────────────────────────────────────────────────────────────────────────────────────────────────────────────────────────────────────────────────────────────────────────────────────────────────────────────────────────────────────────────────────────────────────────────────────────────────────────────────────────────────────────────────────────────────────────────────────────────────────────────────────────────────────┘"
      ]
     },
     "execution_count": 5,
     "metadata": {},
     "output_type": "execute_result"
    }
   ],
   "source": [
    "sql(\n",
    "    \"\"\"\n",
    "    select\n",
    "        *\n",
    "    from read_parquet('../data/04_processed/cricket_dataset.parquet')\n",
    "    \"\"\"\n",
    ").to_view(\"t1\")"
   ]
  },
  {
   "cell_type": "code",
   "execution_count": 6,
   "metadata": {},
   "outputs": [
    {
     "data": {
      "text/plain": [
       "┌─────────────┬──────────┬────────────┬─────────────┬──────────────┬──────────────┬──────────┬────────────────┬───────────────┬───────────────┬──────────────┬──────────┬───────┬───────┬─────────┬─────────────┬────────────┬────────────┬───────┬───────┬─────────────┬─────────┬──────────────────┬────────────────┬────────────┬─────────┬────────────────┬──────────┬─────────┬────────────┬──────────────┬─────────────────┬───────────┬──────────────┬───────────────┬──────────────┬──────────────────────────────────────────────┬───────────────┬──────────────────────┬──────────────────────┬──────────────────────┬──────────────────────┬──────────────────────┬──────────────────────┐\n",
       "│ delivery_id │ match_id │ innings_id │   innings   │ batting_team │ bowling_team │ declared │     bowler     │    batter     │  non_striker  │  player_out  │ delivery │ over  │ ball  │ wickets │ batter_runs │ extra_runs │ total_runs │  six  │ four  │ wicket_type │  city   │ match_start_date │ match_end_date │ match_type │ gender  │    umpire_1    │ umpire_2 │ win_by  │ win_margin │    winner    │ player_of_match │   team1   │    team2     │ toss_decision │ toss_winner  │                    venue                     │    league     │  batting_team_hash   │  bowling_team_hash   │     batter_hash      │     bowler_hash      │   non_striker_hash   │   player_out_hash    │\n",
       "│   uint32    │ varchar  │  varchar   │   varchar   │   varchar    │   varchar    │   int8   │    varchar     │    varchar    │    varchar    │   varchar    │  double  │ int64 │ int64 │  int32  │    int64    │   int64    │   int64    │ int32 │ int32 │   varchar   │ varchar │       date       │      date      │  varchar   │ varchar │    varchar     │ varchar  │ varchar │   double   │   varchar    │     varchar     │  varchar  │   varchar    │    varchar    │   varchar    │                   varchar                    │    varchar    │        uint64        │        uint64        │        uint64        │        uint64        │        uint64        │        uint64        │\n",
       "├─────────────┼──────────┼────────────┼─────────────┼──────────────┼──────────────┼──────────┼────────────────┼───────────────┼───────────────┼──────────────┼──────────┼───────┼───────┼─────────┼─────────────┼────────────┼────────────┼───────┼───────┼─────────────┼─────────┼──────────────────┼────────────────┼────────────┼─────────┼────────────────┼──────────┼─────────┼────────────┼──────────────┼─────────────────┼───────────┼──────────────┼───────────────┼──────────────┼──────────────────────────────────────────────┼───────────────┼──────────────────────┼──────────────────────┼──────────────────────┼──────────────────────┼──────────────────────┼──────────────────────┤\n",
       "│           1 │ 1000851  │ 1000851_1  │ 1st innings │ South Africa │ Australia    │        0 │ Mitchell Starc │ Stephen Cook  │ Dean Elgar    │ NULL         │      0.1 │     1 │     1 │       0 │           0 │          0 │          0 │     0 │     0 │ NULL        │ Perth   │ 2016-11-03       │ 2016-11-07     │ Test       │ male    │ Aleem Dar      │ NJ Llong │ runs    │      177.0 │ South Africa │ K Rabada        │ Australia │ South Africa │ bat           │ South Africa │ Western Australia Cricket Association Ground │ International │ 14200476694599988747 │ 17723195584550523352 │ 12914211167842599580 │ 16994595451802070354 │   764188156032391584 │ 13787848793156543929 │\n",
       "│           2 │ 1000851  │ 1000851_1  │ 1st innings │ South Africa │ Australia    │        0 │ Mitchell Starc │ Stephen Cook  │ Dean Elgar    │ NULL         │      0.2 │     1 │     2 │       0 │           0 │          0 │          0 │     0 │     0 │ NULL        │ Perth   │ 2016-11-03       │ 2016-11-07     │ Test       │ male    │ Aleem Dar      │ NJ Llong │ runs    │      177.0 │ South Africa │ K Rabada        │ Australia │ South Africa │ bat           │ South Africa │ Western Australia Cricket Association Ground │ International │ 14200476694599988747 │ 17723195584550523352 │ 12914211167842599580 │ 16994595451802070354 │   764188156032391584 │ 13787848793156543929 │\n",
       "│           3 │ 1000851  │ 1000851_1  │ 1st innings │ South Africa │ Australia    │        0 │ Mitchell Starc │ Stephen Cook  │ Dean Elgar    │ NULL         │      0.3 │     1 │     3 │       0 │           0 │          0 │          0 │     0 │     0 │ NULL        │ Perth   │ 2016-11-03       │ 2016-11-07     │ Test       │ male    │ Aleem Dar      │ NJ Llong │ runs    │      177.0 │ South Africa │ K Rabada        │ Australia │ South Africa │ bat           │ South Africa │ Western Australia Cricket Association Ground │ International │ 14200476694599988747 │ 17723195584550523352 │ 12914211167842599580 │ 16994595451802070354 │   764188156032391584 │ 13787848793156543929 │\n",
       "│           4 │ 1000851  │ 1000851_1  │ 1st innings │ South Africa │ Australia    │        0 │ Mitchell Starc │ Stephen Cook  │ Dean Elgar    │ Stephen Cook │      0.4 │     1 │     4 │       1 │           0 │          0 │          0 │     0 │     0 │ caught      │ Perth   │ 2016-11-03       │ 2016-11-07     │ Test       │ male    │ Aleem Dar      │ NJ Llong │ runs    │      177.0 │ South Africa │ K Rabada        │ Australia │ South Africa │ bat           │ South Africa │ Western Australia Cricket Association Ground │ International │ 14200476694599988747 │ 17723195584550523352 │ 12914211167842599580 │ 16994595451802070354 │   764188156032391584 │ 12914211167842599580 │\n",
       "│           5 │ 1000851  │ 1000851_1  │ 1st innings │ South Africa │ Australia    │        0 │ Mitchell Starc │ Hashim Amla   │ Dean Elgar    │ NULL         │      0.5 │     1 │     5 │       0 │           0 │          0 │          0 │     0 │     0 │ NULL        │ Perth   │ 2016-11-03       │ 2016-11-07     │ Test       │ male    │ Aleem Dar      │ NJ Llong │ runs    │      177.0 │ South Africa │ K Rabada        │ Australia │ South Africa │ bat           │ South Africa │ Western Australia Cricket Association Ground │ International │ 14200476694599988747 │ 17723195584550523352 │ 14440619159859172626 │ 16994595451802070354 │   764188156032391584 │ 13787848793156543929 │\n",
       "│           6 │ 1000851  │ 1000851_1  │ 1st innings │ South Africa │ Australia    │        0 │ Mitchell Starc │ Hashim Amla   │ Dean Elgar    │ NULL         │      0.6 │     1 │     6 │       0 │           0 │          0 │          0 │     0 │     0 │ NULL        │ Perth   │ 2016-11-03       │ 2016-11-07     │ Test       │ male    │ Aleem Dar      │ NJ Llong │ runs    │      177.0 │ South Africa │ K Rabada        │ Australia │ South Africa │ bat           │ South Africa │ Western Australia Cricket Association Ground │ International │ 14200476694599988747 │ 17723195584550523352 │ 14440619159859172626 │ 16994595451802070354 │   764188156032391584 │ 13787848793156543929 │\n",
       "│           7 │ 1000851  │ 1000851_1  │ 1st innings │ South Africa │ Australia    │        0 │ Josh Hazlewood │ Dean Elgar    │ Hashim Amla   │ NULL         │      1.1 │     2 │     1 │       0 │           0 │          0 │          0 │     0 │     0 │ NULL        │ Perth   │ 2016-11-03       │ 2016-11-07     │ Test       │ male    │ Aleem Dar      │ NJ Llong │ runs    │      177.0 │ South Africa │ K Rabada        │ Australia │ South Africa │ bat           │ South Africa │ Western Australia Cricket Association Ground │ International │ 14200476694599988747 │ 17723195584550523352 │   764188156032391584 │   339777565113761467 │ 14440619159859172626 │ 13787848793156543929 │\n",
       "│           8 │ 1000851  │ 1000851_1  │ 1st innings │ South Africa │ Australia    │        0 │ Josh Hazlewood │ Dean Elgar    │ Hashim Amla   │ NULL         │      1.2 │     2 │     2 │       0 │           0 │          0 │          0 │     0 │     0 │ NULL        │ Perth   │ 2016-11-03       │ 2016-11-07     │ Test       │ male    │ Aleem Dar      │ NJ Llong │ runs    │      177.0 │ South Africa │ K Rabada        │ Australia │ South Africa │ bat           │ South Africa │ Western Australia Cricket Association Ground │ International │ 14200476694599988747 │ 17723195584550523352 │   764188156032391584 │   339777565113761467 │ 14440619159859172626 │ 13787848793156543929 │\n",
       "│           9 │ 1000851  │ 1000851_1  │ 1st innings │ South Africa │ Australia    │        0 │ Josh Hazlewood │ Dean Elgar    │ Hashim Amla   │ NULL         │      1.3 │     2 │     3 │       0 │           0 │          0 │          0 │     0 │     0 │ NULL        │ Perth   │ 2016-11-03       │ 2016-11-07     │ Test       │ male    │ Aleem Dar      │ NJ Llong │ runs    │      177.0 │ South Africa │ K Rabada        │ Australia │ South Africa │ bat           │ South Africa │ Western Australia Cricket Association Ground │ International │ 14200476694599988747 │ 17723195584550523352 │   764188156032391584 │   339777565113761467 │ 14440619159859172626 │ 13787848793156543929 │\n",
       "│          10 │ 1000851  │ 1000851_1  │ 1st innings │ South Africa │ Australia    │        0 │ Josh Hazlewood │ Dean Elgar    │ Hashim Amla   │ NULL         │      1.4 │     2 │     4 │       0 │           1 │          0 │          1 │     0 │     0 │ NULL        │ Perth   │ 2016-11-03       │ 2016-11-07     │ Test       │ male    │ Aleem Dar      │ NJ Llong │ runs    │      177.0 │ South Africa │ K Rabada        │ Australia │ South Africa │ bat           │ South Africa │ Western Australia Cricket Association Ground │ International │ 14200476694599988747 │ 17723195584550523352 │   764188156032391584 │   339777565113761467 │ 14440619159859172626 │ 13787848793156543929 │\n",
       "│           · │    ·     │     ·      │      ·      │     ·        │    ·         │        · │     ·          │     ·         │      ·        │  ·           │       ·  │     · │     · │       · │           · │          · │          · │     · │     · │  ·          │  ·      │     ·            │     ·          │  ·         │  ·      │     ·          │   ·      │  ·      │        ·   │     ·        │    ·            │     ·     │    ·         │  ·            │     ·        │           ·                                  │       ·       │           ·          │           ·          │            ·         │            ·         │           ·          │           ·          │\n",
       "│           · │    ·     │     ·      │      ·      │     ·        │    ·         │        · │     ·          │     ·         │      ·        │  ·           │       ·  │     · │     · │       · │           · │          · │          · │     · │     · │  ·          │  ·      │     ·            │     ·          │  ·         │  ·      │     ·          │   ·      │  ·      │        ·   │     ·        │    ·            │     ·     │    ·         │  ·            │     ·        │           ·                                  │       ·       │           ·          │           ·          │            ·         │            ·         │           ·          │           ·          │\n",
       "│           · │    ·     │     ·      │      ·      │     ·        │    ·         │        · │     ·          │     ·         │      ·        │  ·           │       ·  │     · │     · │       · │           · │          · │          · │     · │     · │  ·          │  ·      │     ·            │     ·          │  ·         │  ·      │     ·          │   ·      │  ·      │        ·   │     ·        │    ·            │     ·     │    ·         │  ·            │     ·        │           ·                                  │       ·       │           ·          │           ·          │            ·         │            ·         │           ·          │           ·          │\n",
       "│        9991 │ 1000885  │ 1000885_1  │ 1st innings │ Australia    │ Pakistan     │        0 │ Yasir Shah     │ Matt Renshaw  │ Usman Khawaja │ NULL         │     33.1 │    34 │     1 │       0 │           0 │          0 │          0 │     0 │     0 │ NULL        │ NULL    │ 2017-01-03       │ 2017-01-07     │ Test       │ male    │ RK Illingworth │ S Ravi   │ runs    │      220.0 │ Australia    │ DA Warner       │ Australia │ Pakistan     │ bat           │ Australia    │ Sydney Cricket Ground                        │ International │ 17723195584550523352 │  4275614240876978794 │  8146539908505834945 │   125086265634855687 │  3869081667477094344 │ 13787848793156543929 │\n",
       "│        9992 │ 1000885  │ 1000885_1  │ 1st innings │ Australia    │ Pakistan     │        0 │ Yasir Shah     │ Matt Renshaw  │ Usman Khawaja │ NULL         │     33.2 │    34 │     2 │       0 │           2 │          0 │          2 │     0 │     0 │ NULL        │ NULL    │ 2017-01-03       │ 2017-01-07     │ Test       │ male    │ RK Illingworth │ S Ravi   │ runs    │      220.0 │ Australia    │ DA Warner       │ Australia │ Pakistan     │ bat           │ Australia    │ Sydney Cricket Ground                        │ International │ 17723195584550523352 │  4275614240876978794 │  8146539908505834945 │   125086265634855687 │  3869081667477094344 │ 13787848793156543929 │\n",
       "│        9993 │ 1000885  │ 1000885_1  │ 1st innings │ Australia    │ Pakistan     │        0 │ Yasir Shah     │ Matt Renshaw  │ Usman Khawaja │ NULL         │     33.3 │    34 │     3 │       0 │           0 │          0 │          0 │     0 │     0 │ NULL        │ NULL    │ 2017-01-03       │ 2017-01-07     │ Test       │ male    │ RK Illingworth │ S Ravi   │ runs    │      220.0 │ Australia    │ DA Warner       │ Australia │ Pakistan     │ bat           │ Australia    │ Sydney Cricket Ground                        │ International │ 17723195584550523352 │  4275614240876978794 │  8146539908505834945 │   125086265634855687 │  3869081667477094344 │ 13787848793156543929 │\n",
       "│        9994 │ 1000885  │ 1000885_1  │ 1st innings │ Australia    │ Pakistan     │        0 │ Yasir Shah     │ Matt Renshaw  │ Usman Khawaja │ NULL         │     33.4 │    34 │     4 │       0 │           3 │          0 │          3 │     0 │     0 │ NULL        │ NULL    │ 2017-01-03       │ 2017-01-07     │ Test       │ male    │ RK Illingworth │ S Ravi   │ runs    │      220.0 │ Australia    │ DA Warner       │ Australia │ Pakistan     │ bat           │ Australia    │ Sydney Cricket Ground                        │ International │ 17723195584550523352 │  4275614240876978794 │  8146539908505834945 │   125086265634855687 │  3869081667477094344 │ 13787848793156543929 │\n",
       "│        9995 │ 1000885  │ 1000885_1  │ 1st innings │ Australia    │ Pakistan     │        0 │ Yasir Shah     │ Usman Khawaja │ Matt Renshaw  │ NULL         │     33.5 │    34 │     5 │       0 │           0 │          0 │          0 │     0 │     0 │ NULL        │ NULL    │ 2017-01-03       │ 2017-01-07     │ Test       │ male    │ RK Illingworth │ S Ravi   │ runs    │      220.0 │ Australia    │ DA Warner       │ Australia │ Pakistan     │ bat           │ Australia    │ Sydney Cricket Ground                        │ International │ 17723195584550523352 │  4275614240876978794 │  3869081667477094344 │   125086265634855687 │  8146539908505834945 │ 13787848793156543929 │\n",
       "│        9996 │ 1000885  │ 1000885_1  │ 1st innings │ Australia    │ Pakistan     │        0 │ Yasir Shah     │ Usman Khawaja │ Matt Renshaw  │ NULL         │     33.6 │    34 │     6 │       0 │           0 │          0 │          0 │     0 │     0 │ NULL        │ NULL    │ 2017-01-03       │ 2017-01-07     │ Test       │ male    │ RK Illingworth │ S Ravi   │ runs    │      220.0 │ Australia    │ DA Warner       │ Australia │ Pakistan     │ bat           │ Australia    │ Sydney Cricket Ground                        │ International │ 17723195584550523352 │  4275614240876978794 │  3869081667477094344 │   125086265634855687 │  8146539908505834945 │ 13787848793156543929 │\n",
       "│        9997 │ 1000885  │ 1000885_1  │ 1st innings │ Australia    │ Pakistan     │        0 │ Wahab Riaz     │ Matt Renshaw  │ Usman Khawaja │ NULL         │     34.1 │    35 │     1 │       0 │           2 │          1 │          3 │     0 │     0 │ NULL        │ NULL    │ 2017-01-03       │ 2017-01-07     │ Test       │ male    │ RK Illingworth │ S Ravi   │ runs    │      220.0 │ Australia    │ DA Warner       │ Australia │ Pakistan     │ bat           │ Australia    │ Sydney Cricket Ground                        │ International │ 17723195584550523352 │  4275614240876978794 │  8146539908505834945 │ 15499278809781335235 │  3869081667477094344 │ 13787848793156543929 │\n",
       "│        9998 │ 1000885  │ 1000885_1  │ 1st innings │ Australia    │ Pakistan     │        0 │ Wahab Riaz     │ Matt Renshaw  │ Usman Khawaja │ NULL         │     34.2 │    35 │     2 │       0 │           0 │          0 │          0 │     0 │     0 │ NULL        │ NULL    │ 2017-01-03       │ 2017-01-07     │ Test       │ male    │ RK Illingworth │ S Ravi   │ runs    │      220.0 │ Australia    │ DA Warner       │ Australia │ Pakistan     │ bat           │ Australia    │ Sydney Cricket Ground                        │ International │ 17723195584550523352 │  4275614240876978794 │  8146539908505834945 │ 15499278809781335235 │  3869081667477094344 │ 13787848793156543929 │\n",
       "│        9999 │ 1000885  │ 1000885_1  │ 1st innings │ Australia    │ Pakistan     │        0 │ Wahab Riaz     │ Matt Renshaw  │ Usman Khawaja │ NULL         │     34.3 │    35 │     3 │       0 │           0 │          0 │          0 │     0 │     0 │ NULL        │ NULL    │ 2017-01-03       │ 2017-01-07     │ Test       │ male    │ RK Illingworth │ S Ravi   │ runs    │      220.0 │ Australia    │ DA Warner       │ Australia │ Pakistan     │ bat           │ Australia    │ Sydney Cricket Ground                        │ International │ 17723195584550523352 │  4275614240876978794 │  8146539908505834945 │ 15499278809781335235 │  3869081667477094344 │ 13787848793156543929 │\n",
       "│       10000 │ 1000885  │ 1000885_1  │ 1st innings │ Australia    │ Pakistan     │        0 │ Wahab Riaz     │ Matt Renshaw  │ Usman Khawaja │ NULL         │     34.4 │    35 │     4 │       0 │           0 │          0 │          0 │     0 │     0 │ NULL        │ NULL    │ 2017-01-03       │ 2017-01-07     │ Test       │ male    │ RK Illingworth │ S Ravi   │ runs    │      220.0 │ Australia    │ DA Warner       │ Australia │ Pakistan     │ bat           │ Australia    │ Sydney Cricket Ground                        │ International │ 17723195584550523352 │  4275614240876978794 │  8146539908505834945 │ 15499278809781335235 │  3869081667477094344 │ 13787848793156543929 │\n",
       "├─────────────┴──────────┴────────────┴─────────────┴──────────────┴──────────────┴──────────┴────────────────┴───────────────┴───────────────┴──────────────┴──────────┴───────┴───────┴─────────┴─────────────┴────────────┴────────────┴───────┴───────┴─────────────┴─────────┴──────────────────┴────────────────┴────────────┴─────────┴────────────────┴──────────┴─────────┴────────────┴──────────────┴─────────────────┴───────────┴──────────────┴───────────────┴──────────────┴──────────────────────────────────────────────┴───────────────┴──────────────────────┴──────────────────────┴──────────────────────┴──────────────────────┴──────────────────────┴──────────────────────┤\n",
       "│ ? rows (>9999 rows, 20 shown)                                                                                                                                                                                                                                                                                                                                                                                                                                                                                                                                                                                                                                                          44 columns │\n",
       "└───────────────────────────────────────────────────────────────────────────────────────────────────────────────────────────────────────────────────────────────────────────────────────────────────────────────────────────────────────────────────────────────────────────────────────────────────────────────────────────────────────────────────────────────────────────────────────────────────────────────────────────────────────────────────────────────────────────────────────────────────────────────────────────────────────────────────────────────────────────────────────────────────────────────────────────────────────────────────────────────────────────────────────────────────┘"
      ]
     },
     "execution_count": 6,
     "metadata": {},
     "output_type": "execute_result"
    }
   ],
   "source": [
    "sql(\n",
    "    \"\"\"\n",
    "    select\n",
    "        * exclude(batter_id, bowler_id, non_striker_id, player_out_id),\n",
    "        hash(batting_team) as batting_team_hash,\n",
    "        hash(bowling_team) as bowling_team_hash,\n",
    "        hash(coalesce(batter_id, batter)) as batter_hash,\n",
    "        hash(coalesce(bowler_id, bowler)) as bowler_hash,\n",
    "        hash(coalesce(non_striker_id, non_striker)) as non_striker_hash,\n",
    "        hash(coalesce(player_out_id, player_out)) as player_out_hash,\n",
    "    from t1\n",
    "    \"\"\"\n",
    ").to_view(\"t2\")"
   ]
  },
  {
   "cell_type": "code",
   "execution_count": 132,
   "metadata": {},
   "outputs": [],
   "source": [
    "hash_dims = [\"batting_team_hash\", \"bowling_team_hash\", \"batter_hash\", \"bowler_hash\", \"non_striker_hash\", \"player_out_hash\"] \n",
    "\n",
    "for dim in hash_dims:\n",
    "    sql(\n",
    "        f\"\"\"\n",
    "        with cte_1 as (select distinct {dim.split(\"_hash\")[0]}, {dim} from t2)\n",
    "        select {dim.split(\"_hash\")[0]}, {dim}, row_number() over(order by {dim}) as {dim.split(\"_hash\")[0]}_sk from cte_1\n",
    "        \"\"\"\n",
    "    ).to_view(f\"dim_{dim.replace(\"_hash\", \"\")}\")"
   ]
  },
  {
   "cell_type": "code",
   "execution_count": 137,
   "metadata": {},
   "outputs": [
    {
     "data": {
      "text/plain": [
       "┌──────────────┬───────────────────┬─────────────────┐\n",
       "│ batting_team │ batting_team_hash │ batting_team_sk │\n",
       "│   varchar    │      uint64       │      int64      │\n",
       "├──────────────┼───────────────────┼─────────────────┤\n",
       "│ Essex        │ 62947260050851832 │               1 │\n",
       "└──────────────┴───────────────────┴─────────────────┘"
      ]
     },
     "execution_count": 137,
     "metadata": {},
     "output_type": "execute_result"
    }
   ],
   "source": [
    "sql(\"select * from dim_batting_team limit 1\")"
   ]
  },
  {
   "cell_type": "code",
   "execution_count": 145,
   "metadata": {},
   "outputs": [
    {
     "data": {
      "text/plain": [
       "┌─────────────┬──────────┬────────────┬─────────────┬───────────────┬─────────────────┬──────────┬──────────────┬───────────────┬──────────────┬───────────────┬──────────┬───────┬───────┬─────────┬─────────────┬────────────┬────────────┬───────┬───────┬───────────────────┬─────────┬──────────────────┬────────────────┬────────────┬─────────┬─────────────────┬──────────┬─────────┬────────────┬─────────────────┬─────────────────┬───────────────┬─────────────────┬───────────────┬───────────────┬──────────────────────────┬───────────────────────┬───────────┬───────────┬─────────────────┬─────────────────┬────────────────┬───────────────┐\n",
       "│ delivery_id │ match_id │ innings_id │   innings   │ batting_team  │  bowling_team   │ declared │    bowler    │    batter     │ non_striker  │  player_out   │ delivery │ over  │ ball  │ wickets │ batter_runs │ extra_runs │ total_runs │  six  │ four  │    wicket_type    │  city   │ match_start_date │ match_end_date │ match_type │ gender  │    umpire_1     │ umpire_2 │ win_by  │ win_margin │     winner      │ player_of_match │     team1     │      team2      │ toss_decision │  toss_winner  │          venue           │        league         │ batter_sk │ bowler_sk │ batting_team_sk │ bowling_team_sk │ non_striker_sk │ player_out_sk │\n",
       "│   uint32    │ varchar  │  varchar   │   varchar   │    varchar    │     varchar     │   int8   │   varchar    │    varchar    │   varchar    │    varchar    │  double  │ int64 │ int64 │  int32  │    int64    │   int64    │   int64    │ int32 │ int32 │      varchar      │ varchar │       date       │      date      │  varchar   │ varchar │     varchar     │ varchar  │ varchar │   double   │     varchar     │     varchar     │    varchar    │     varchar     │    varchar    │    varchar    │         varchar          │        varchar        │   int64   │   int64   │      int64      │      int64      │     int64      │     int64     │\n",
       "├─────────────┼──────────┼────────────┼─────────────┼───────────────┼─────────────────┼──────────┼──────────────┼───────────────┼──────────────┼───────────────┼──────────┼───────┼───────┼─────────┼─────────────┼────────────┼────────────┼───────┼───────┼───────────────────┼─────────┼──────────────────┼────────────────┼────────────┼─────────┼─────────────────┼──────────┼─────────┼────────────┼─────────────────┼─────────────────┼───────────────┼─────────────────┼───────────────┼───────────────┼──────────────────────────┼───────────────────────┼───────────┼───────────┼─────────────────┼─────────────────┼────────────────┼───────────────┤\n",
       "│     4199249 │ 1324681  │ 1324681_1  │ 1st innings │ Sydney Sixers │ Perth Scorchers │        0 │ Andrew Tye   │ Ben Dwarshuis │ Jordan Silk  │ Ben Dwarshuis │     18.1 │    19 │     1 │       1 │           0 │          0 │          0 │     0 │     0 │ caught and bowled │ Perth   │ 2023-01-28       │ 2023-01-28     │ T20        │ male    │ DM Koch         │ P Wilson │ wickets │        7.0 │ Perth Scorchers │ AJ Turner       │ Sydney Sixers │ Perth Scorchers │ bat           │ Sydney Sixers │ Perth Stadium            │ Big Bash League (BBL) │      9112 │      3665 │             239 │             198 │           2519 │          8637 │\n",
       "│     4199250 │ 1324681  │ 1324681_1  │ 1st innings │ Sydney Sixers │ Perth Scorchers │        0 │ Andrew Tye   │ Sean Abbott   │ Jordan Silk  │ NULL          │     18.2 │    19 │     2 │       0 │           1 │          0 │          1 │     0 │     0 │ NULL              │ Perth   │ 2023-01-28       │ 2023-01-28     │ T20        │ male    │ DM Koch         │ P Wilson │ wickets │        7.0 │ Perth Scorchers │ AJ Turner       │ Sydney Sixers │ Perth Scorchers │ bat           │ Sydney Sixers │ Perth Stadium            │ Big Bash League (BBL) │      3404 │      3665 │             239 │             198 │           2519 │          7512 │\n",
       "│     4199251 │ 1324681  │ 1324681_1  │ 1st innings │ Sydney Sixers │ Perth Scorchers │        0 │ Andrew Tye   │ Jordan Silk   │ Sean Abbott  │ NULL          │     18.3 │    19 │     3 │       0 │           1 │          0 │          1 │     0 │     0 │ NULL              │ Perth   │ 2023-01-28       │ 2023-01-28     │ T20        │ male    │ DM Koch         │ P Wilson │ wickets │        7.0 │ Perth Scorchers │ AJ Turner       │ Sydney Sixers │ Perth Scorchers │ bat           │ Sydney Sixers │ Perth Stadium            │ Big Bash League (BBL) │      2566 │      3665 │             239 │             198 │           3336 │          7512 │\n",
       "│     4199252 │ 1324681  │ 1324681_1  │ 1st innings │ Sydney Sixers │ Perth Scorchers │        0 │ Andrew Tye   │ Sean Abbott   │ Jordan Silk  │ NULL          │     18.4 │    19 │     4 │       0 │           1 │          0 │          1 │     0 │     0 │ NULL              │ Perth   │ 2023-01-28       │ 2023-01-28     │ T20        │ male    │ DM Koch         │ P Wilson │ wickets │        7.0 │ Perth Scorchers │ AJ Turner       │ Sydney Sixers │ Perth Scorchers │ bat           │ Sydney Sixers │ Perth Stadium            │ Big Bash League (BBL) │      3404 │      3665 │             239 │             198 │           2519 │          7512 │\n",
       "│     4199253 │ 1324681  │ 1324681_1  │ 1st innings │ Sydney Sixers │ Perth Scorchers │        0 │ Andrew Tye   │ Jordan Silk   │ Sean Abbott  │ NULL          │     18.5 │    19 │     5 │       0 │           1 │          0 │          1 │     0 │     0 │ NULL              │ Perth   │ 2023-01-28       │ 2023-01-28     │ T20        │ male    │ DM Koch         │ P Wilson │ wickets │        7.0 │ Perth Scorchers │ AJ Turner       │ Sydney Sixers │ Perth Scorchers │ bat           │ Sydney Sixers │ Perth Stadium            │ Big Bash League (BBL) │      2566 │      3665 │             239 │             198 │           3336 │          7512 │\n",
       "│     4199254 │ 1324681  │ 1324681_1  │ 1st innings │ Sydney Sixers │ Perth Scorchers │        0 │ Andrew Tye   │ Sean Abbott   │ Jordan Silk  │ NULL          │     18.6 │    19 │     6 │       0 │           4 │          0 │          4 │     0 │     1 │ NULL              │ Perth   │ 2023-01-28       │ 2023-01-28     │ T20        │ male    │ DM Koch         │ P Wilson │ wickets │        7.0 │ Perth Scorchers │ AJ Turner       │ Sydney Sixers │ Perth Scorchers │ bat           │ Sydney Sixers │ Perth Stadium            │ Big Bash League (BBL) │      3404 │      3665 │             239 │             198 │           2519 │          7512 │\n",
       "│     4199255 │ 1324681  │ 1324681_1  │ 1st innings │ Sydney Sixers │ Perth Scorchers │        0 │ Aaron Hardie │ Jordan Silk   │ Sean Abbott  │ NULL          │     19.1 │    20 │     1 │       0 │           1 │          0 │          1 │     0 │     0 │ NULL              │ Perth   │ 2023-01-28       │ 2023-01-28     │ T20        │ male    │ DM Koch         │ P Wilson │ wickets │        7.0 │ Perth Scorchers │ AJ Turner       │ Sydney Sixers │ Perth Scorchers │ bat           │ Sydney Sixers │ Perth Stadium            │ Big Bash League (BBL) │      2566 │      2641 │             239 │             198 │           3336 │          7512 │\n",
       "│     4199256 │ 1324681  │ 1324681_1  │ 1st innings │ Sydney Sixers │ Perth Scorchers │        0 │ Aaron Hardie │ Sean Abbott   │ Jordan Silk  │ NULL          │     19.2 │    20 │     2 │       0 │           2 │          0 │          2 │     0 │     0 │ NULL              │ Perth   │ 2023-01-28       │ 2023-01-28     │ T20        │ male    │ DM Koch         │ P Wilson │ wickets │        7.0 │ Perth Scorchers │ AJ Turner       │ Sydney Sixers │ Perth Scorchers │ bat           │ Sydney Sixers │ Perth Stadium            │ Big Bash League (BBL) │      3404 │      2641 │             239 │             198 │           2519 │          7512 │\n",
       "│     4199257 │ 1324681  │ 1324681_1  │ 1st innings │ Sydney Sixers │ Perth Scorchers │        0 │ Aaron Hardie │ Sean Abbott   │ Jordan Silk  │ NULL          │     19.3 │    20 │     3 │       0 │           2 │          0 │          2 │     0 │     0 │ NULL              │ Perth   │ 2023-01-28       │ 2023-01-28     │ T20        │ male    │ DM Koch         │ P Wilson │ wickets │        7.0 │ Perth Scorchers │ AJ Turner       │ Sydney Sixers │ Perth Scorchers │ bat           │ Sydney Sixers │ Perth Stadium            │ Big Bash League (BBL) │      3404 │      2641 │             239 │             198 │           2519 │          7512 │\n",
       "│     4199258 │ 1324681  │ 1324681_1  │ 1st innings │ Sydney Sixers │ Perth Scorchers │        0 │ Aaron Hardie │ Sean Abbott   │ Jordan Silk  │ NULL          │     19.4 │    20 │     4 │       0 │           0 │          2 │          2 │     0 │     0 │ NULL              │ Perth   │ 2023-01-28       │ 2023-01-28     │ T20        │ male    │ DM Koch         │ P Wilson │ wickets │        7.0 │ Perth Scorchers │ AJ Turner       │ Sydney Sixers │ Perth Scorchers │ bat           │ Sydney Sixers │ Perth Stadium            │ Big Bash League (BBL) │      3404 │      2641 │             239 │             198 │           2519 │          7512 │\n",
       "│         ·   │    ·     │     ·      │      ·      │     ·         │    ·            │        · │      ·       │      ·        │      ·       │  ·            │       ·  │     · │     · │       · │           · │          · │          · │     · │     · │  ·                │  ·      │     ·            │     ·          │  ·         │  ·      │    ·            │   ·      │  ·      │         ·  │  ·              │    ·            │     ·         │    ·            │  ·            │     ·         │       ·                  │       ·               │        ·  │        ·  │              ·  │               · │             ·  │            ·  │\n",
       "│         ·   │    ·     │     ·      │      ·      │     ·         │    ·            │        · │      ·       │      ·        │      ·       │  ·            │       ·  │     · │     · │       · │           · │          · │          · │     · │     · │  ·                │  ·      │     ·            │     ·          │  ·         │  ·      │    ·            │   ·      │  ·      │         ·  │  ·              │    ·            │     ·         │    ·            │  ·            │     ·         │       ·                  │       ·               │        ·  │        ·  │              ·  │               · │             ·  │            ·  │\n",
       "│         ·   │    ·     │     ·      │      ·      │     ·         │    ·            │        · │      ·       │      ·        │      ·       │  ·            │       ·  │     · │     · │       · │           · │          · │          · │     · │     · │  ·                │  ·      │     ·            │     ·          │  ·         │  ·      │    ·            │   ·      │  ·      │         ·  │  ·              │    ·            │     ·         │    ·            │  ·            │     ·         │       ·                  │       ·               │        ·  │        ·  │              ·  │               · │             ·  │            ·  │\n",
       "│      526945 │ 1072308  │ 1072308_3  │ 3rd innings │ Australia     │ England         │        0 │ Chris Woakes │ Steven Smith  │ David Warner │ NULL          │     35.5 │    36 │     5 │       0 │           0 │          0 │          0 │     0 │     0 │ NULL              │ NULL    │ 2017-12-26       │ 2017-12-30     │ Test       │ male    │ HDPK Dharmasena │ S Ravi   │ NULL    │        0.0 │ NULL            │ AN Cook         │ Australia     │ England         │ bat           │ Australia     │ Melbourne Cricket Ground │ International         │      4512 │      5179 │             342 │              72 │           5184 │          7512 │\n",
       "│      526946 │ 1072308  │ 1072308_3  │ 3rd innings │ Australia     │ England         │        0 │ Chris Woakes │ Steven Smith  │ David Warner │ NULL          │     35.6 │    36 │     6 │       0 │           0 │          0 │          0 │     0 │     0 │ NULL              │ NULL    │ 2017-12-26       │ 2017-12-30     │ Test       │ male    │ HDPK Dharmasena │ S Ravi   │ NULL    │        0.0 │ NULL            │ AN Cook         │ Australia     │ England         │ bat           │ Australia     │ Melbourne Cricket Ground │ International         │      4512 │      5179 │             342 │              72 │           5184 │          7512 │\n",
       "│      526947 │ 1072308  │ 1072308_3  │ 3rd innings │ Australia     │ England         │        0 │ Tom Curran   │ David Warner  │ Steven Smith │ NULL          │     36.1 │    37 │     1 │       0 │           1 │          0 │          1 │     0 │     0 │ NULL              │ NULL    │ 2017-12-26       │ 2017-12-30     │ Test       │ male    │ HDPK Dharmasena │ S Ravi   │ NULL    │        0.0 │ NULL            │ AN Cook         │ Australia     │ England         │ bat           │ Australia     │ Melbourne Cricket Ground │ International         │      5290 │       558 │             342 │              72 │           4422 │          7512 │\n",
       "│      526948 │ 1072308  │ 1072308_3  │ 3rd innings │ Australia     │ England         │        0 │ Tom Curran   │ Steven Smith  │ David Warner │ NULL          │     36.2 │    37 │     2 │       0 │           0 │          0 │          0 │     0 │     0 │ NULL              │ NULL    │ 2017-12-26       │ 2017-12-30     │ Test       │ male    │ HDPK Dharmasena │ S Ravi   │ NULL    │        0.0 │ NULL            │ AN Cook         │ Australia     │ England         │ bat           │ Australia     │ Melbourne Cricket Ground │ International         │      4512 │       558 │             342 │              72 │           5184 │          7512 │\n",
       "│      526949 │ 1072308  │ 1072308_3  │ 3rd innings │ Australia     │ England         │        0 │ Tom Curran   │ Steven Smith  │ David Warner │ NULL          │     36.3 │    37 │     3 │       0 │           0 │          0 │          0 │     0 │     0 │ NULL              │ NULL    │ 2017-12-26       │ 2017-12-30     │ Test       │ male    │ HDPK Dharmasena │ S Ravi   │ NULL    │        0.0 │ NULL            │ AN Cook         │ Australia     │ England         │ bat           │ Australia     │ Melbourne Cricket Ground │ International         │      4512 │       558 │             342 │              72 │           5184 │          7512 │\n",
       "│      526950 │ 1072308  │ 1072308_3  │ 3rd innings │ Australia     │ England         │        0 │ Tom Curran   │ Steven Smith  │ David Warner │ NULL          │     36.4 │    37 │     4 │       0 │           0 │          0 │          0 │     0 │     0 │ NULL              │ NULL    │ 2017-12-26       │ 2017-12-30     │ Test       │ male    │ HDPK Dharmasena │ S Ravi   │ NULL    │        0.0 │ NULL            │ AN Cook         │ Australia     │ England         │ bat           │ Australia     │ Melbourne Cricket Ground │ International         │      4512 │       558 │             342 │              72 │           5184 │          7512 │\n",
       "│      526951 │ 1072308  │ 1072308_3  │ 3rd innings │ Australia     │ England         │        0 │ Tom Curran   │ Steven Smith  │ David Warner │ NULL          │     36.5 │    37 │     5 │       0 │           0 │          0 │          0 │     0 │     0 │ NULL              │ NULL    │ 2017-12-26       │ 2017-12-30     │ Test       │ male    │ HDPK Dharmasena │ S Ravi   │ NULL    │        0.0 │ NULL            │ AN Cook         │ Australia     │ England         │ bat           │ Australia     │ Melbourne Cricket Ground │ International         │      4512 │       558 │             342 │              72 │           5184 │          7512 │\n",
       "│      526952 │ 1072308  │ 1072308_3  │ 3rd innings │ Australia     │ England         │        0 │ Tom Curran   │ Steven Smith  │ David Warner │ NULL          │     36.6 │    37 │     6 │       0 │           0 │          0 │          0 │     0 │     0 │ NULL              │ NULL    │ 2017-12-26       │ 2017-12-30     │ Test       │ male    │ HDPK Dharmasena │ S Ravi   │ NULL    │        0.0 │ NULL            │ AN Cook         │ Australia     │ England         │ bat           │ Australia     │ Melbourne Cricket Ground │ International         │      4512 │       558 │             342 │              72 │           5184 │          7512 │\n",
       "│      526953 │ 1072308  │ 1072308_3  │ 3rd innings │ Australia     │ England         │        0 │ Chris Woakes │ David Warner  │ Steven Smith │ NULL          │     37.1 │    38 │     1 │       0 │           0 │          0 │          0 │     0 │     0 │ NULL              │ NULL    │ 2017-12-26       │ 2017-12-30     │ Test       │ male    │ HDPK Dharmasena │ S Ravi   │ NULL    │        0.0 │ NULL            │ AN Cook         │ Australia     │ England         │ bat           │ Australia     │ Melbourne Cricket Ground │ International         │      5290 │      5179 │             342 │              72 │           4422 │          7512 │\n",
       "│      526954 │ 1072308  │ 1072308_3  │ 3rd innings │ Australia     │ England         │        0 │ Chris Woakes │ David Warner  │ Steven Smith │ NULL          │     37.2 │    38 │     2 │       0 │           0 │          0 │          0 │     0 │     0 │ NULL              │ NULL    │ 2017-12-26       │ 2017-12-30     │ Test       │ male    │ HDPK Dharmasena │ S Ravi   │ NULL    │        0.0 │ NULL            │ AN Cook         │ Australia     │ England         │ bat           │ Australia     │ Melbourne Cricket Ground │ International         │      5290 │      5179 │             342 │              72 │           4422 │          7512 │\n",
       "├─────────────┴──────────┴────────────┴─────────────┴───────────────┴─────────────────┴──────────┴──────────────┴───────────────┴──────────────┴───────────────┴──────────┴───────┴───────┴─────────┴─────────────┴────────────┴────────────┴───────┴───────┴───────────────────┴─────────┴──────────────────┴────────────────┴────────────┴─────────┴─────────────────┴──────────┴─────────┴────────────┴─────────────────┴─────────────────┴───────────────┴─────────────────┴───────────────┴───────────────┴──────────────────────────┴───────────────────────┴───────────┴───────────┴─────────────────┴─────────────────┴────────────────┴───────────────┤\n",
       "│ ? rows (>9999 rows, 20 shown)                                                                                                                                                                                                                                                                                                                                                                                                                                                                                                                                                                                                                     44 columns │\n",
       "└──────────────────────────────────────────────────────────────────────────────────────────────────────────────────────────────────────────────────────────────────────────────────────────────────────────────────────────────────────────────────────────────────────────────────────────────────────────────────────────────────────────────────────────────────────────────────────────────────────────────────────────────────────────────────────────────────────────────────────────────────────────────────────────────────────────────────────────────────────────────────────────────────────────────────────────────────────────────────────────────┘"
      ]
     },
     "execution_count": 145,
     "metadata": {},
     "output_type": "execute_result"
    }
   ],
   "source": [
    "sql(\n",
    "    \"\"\"\n",
    "    select\n",
    "        * exclude(\n",
    "            batter_hash, bowler_hash, batting_team_hash, bowling_team_hash, non_striker_hash, player_out_hash\n",
    "        )\n",
    "\n",
    "    from \n",
    "        t2 t\n",
    "        left join (select batter_hash, batter_sk from dim_batter) DimBat\n",
    "            on DimBat.batter_hash = t.batter_hash\n",
    "        left join (select bowler_hash, bowler_sk from dim_bowler) DimBowl\n",
    "            on DimBowl.bowler_hash = t.bowler_hash\n",
    "        left join (select batting_team_hash, batting_team_sk from dim_batting_team) DimBatting_team\n",
    "            on DimBatting_team.batting_team_hash = t.batting_team_hash\n",
    "        left join (select bowling_team_hash, bowling_team_sk from dim_bowling_team) DimBowling_team\n",
    "            on DimBowling_team.bowling_team_hash = t.bowling_team_hash\n",
    "        left join (select non_striker_hash, non_striker_sk from dim_non_striker) DimNon_striker\n",
    "            on DimNon_striker.non_striker_hash = t.non_striker_hash\n",
    "        left join (select player_out_hash, player_out_sk from dim_player_out) DimPlayer_out\n",
    "            on DimPlayer_out.player_out_hash = t.player_out_hash\n",
    "    \"\"\"\n",
    ")"
   ]
  },
  {
   "cell_type": "code",
   "execution_count": 52,
   "metadata": {},
   "outputs": [
    {
     "data": {
      "text/plain": [
       "┌────────────┬─────────────────────────────┬─────────┬──────────────┐\n",
       "│ match_type │           league            │ result  │ count_star() │\n",
       "│  varchar   │           varchar           │ varchar │    int64     │\n",
       "├────────────┼─────────────────────────────┼─────────┼──────────────┤\n",
       "│ ODI        │ International               │ loss    │           16 │\n",
       "│ ODI        │ International               │ win     │           11 │\n",
       "│ T20        │ Indian Premier League (IPL) │ loss    │           64 │\n",
       "│ T20        │ Indian Premier League (IPL) │ win     │           57 │\n",
       "│ T20        │ International               │ loss    │           24 │\n",
       "│ T20        │ International               │ win     │           42 │\n",
       "│ Test       │ International               │ loss    │           32 │\n",
       "│ Test       │ International               │ win     │           34 │\n",
       "└────────────┴─────────────────────────────┴─────────┴──────────────┘"
      ]
     },
     "execution_count": 52,
     "metadata": {},
     "output_type": "execute_result"
    }
   ],
   "source": [
    "db.sql(\n",
    "    \"\"\"\n",
    "    with tt1 as (\n",
    "        select\n",
    "            match_type,\n",
    "            league,\n",
    "            match_start_date as date,\n",
    "            bowling_team,\n",
    "            innings_id,\n",
    "            count(delivery_id) as balls,\n",
    "            sum(batter_runs) as runs,\n",
    "            sum(six) as six,\n",
    "            sum(four) as four,\n",
    "            case when winner = batting_team then 'win' else 'loss' end as result\n",
    "        from t1\n",
    "        where\n",
    "            batter = 'Rishabh Pant'\n",
    "        group by all\n",
    "    )\n",
    "\n",
    "    select\n",
    "        match_type,\n",
    "        league,\n",
    "        result,\n",
    "        count(*)\n",
    "    from tt1\n",
    "    group by all\n",
    "    order by match_type, league, result\n",
    "    \"\"\"\n",
    ")"
   ]
  },
  {
   "cell_type": "code",
   "execution_count": null,
   "metadata": {},
   "outputs": [],
   "source": []
  },
  {
   "cell_type": "code",
   "execution_count": null,
   "metadata": {},
   "outputs": [],
   "source": []
  }
 ],
 "metadata": {
  "kernelspec": {
   "display_name": "wms",
   "language": "python",
   "name": "python3"
  },
  "language_info": {
   "codemirror_mode": {
    "name": "ipython",
    "version": 3
   },
   "file_extension": ".py",
   "mimetype": "text/x-python",
   "name": "python",
   "nbconvert_exporter": "python",
   "pygments_lexer": "ipython3",
   "version": "3.13.0"
  },
  "polyglot_notebook": {
   "kernelInfo": {
    "defaultKernelName": "csharp",
    "items": [
     {
      "aliases": [],
      "name": "csharp"
     }
    ]
   }
  }
 },
 "nbformat": 4,
 "nbformat_minor": 2
}
